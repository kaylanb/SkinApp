{
 "metadata": {
  "name": "",
  "signature": "sha256:cc54305f5d2a8c5007009a3bb9ad7b5185ed7a5bcf1297f2662ca1d7b6322e50"
 },
 "nbformat": 3,
 "nbformat_minor": 0,
 "worksheets": [
  {
   "cells": [
    {
     "cell_type": "code",
     "collapsed": false,
     "input": [
      "%matplotlib inline\n",
      "#%matplotlib\n",
      "from matplotlib import pyplot as plt\n",
      "import pandas as pd\n",
      "import numpy as np"
     ],
     "language": "python",
     "metadata": {},
     "outputs": [],
     "prompt_number": 1
    },
    {
     "cell_type": "code",
     "collapsed": false,
     "input": [
      "!pwd"
     ],
     "language": "python",
     "metadata": {},
     "outputs": [
      {
       "output_type": "stream",
       "stream": "stdout",
       "text": [
        "/Users/kburleigh/GradSchool/Programming/DataSciShop_CDIPS/SkinPix/SkinApp\r\n"
       ]
      }
     ],
     "prompt_number": 2
    },
    {
     "cell_type": "code",
     "collapsed": false,
     "input": [
      "f_ml_out= \"machine_learn/HOG/ML_output.csv\"\n",
      "df=pd.read_csv(f_ml_out)"
     ],
     "language": "python",
     "metadata": {},
     "outputs": [],
     "prompt_number": 3
    },
    {
     "cell_type": "code",
     "collapsed": false,
     "input": [
      "df.ix[0,0:10]"
     ],
     "language": "python",
     "metadata": {},
     "outputs": [
      {
       "metadata": {},
       "output_type": "pyout",
       "prompt_number": 6,
       "text": [
        "7.800000000000000000e+01      68\n",
        "7.800000000000000000e+01.1    72\n",
        "7.100000000000000000e+01      67\n",
        "7.600000000000000000e+01      77\n",
        "8.200000000000000000e+01      73\n",
        "7.600000000000000000e+01.1    69\n",
        "8.000000000000000000e+01      75\n",
        "7.400000000000000000e+01      63\n",
        "7.100000000000000000e+01.1    90\n",
        "6.900000000000000000e+01      56\n",
        "Name: 0, dtype: float64"
       ]
      }
     ],
     "prompt_number": 6
    },
    {
     "cell_type": "heading",
     "level": 1,
     "metadata": {},
     "source": [
      "ML_Hog.py"
     ]
    },
    {
     "cell_type": "code",
     "collapsed": false,
     "input": [
      "!ls machine_learn/HOG/csv_features/\n"
     ],
     "language": "python",
     "metadata": {},
     "outputs": [
      {
       "output_type": "stream",
       "stream": "stdout",
       "text": [
        "hog_features_9_NewTraining_Faces_everyones.csv       hog_features_9_NewTraining_SkinNoFaces_everyones.csv\r\n",
        "hog_features_9_NewTraining_Food_everyones.csv\r\n"
       ]
      }
     ],
     "prompt_number": 12
    },
    {
     "cell_type": "code",
     "collapsed": false,
     "input": [
      "from numpy.random import rand\n",
      "from numpy import ones, zeros, concatenate\n",
      "from pandas import read_csv, DataFrame\n",
      "import matplotlib.pyplot as plt\n",
      "from numpy import savetxt\n",
      "\n",
      "from sklearn.cross_validation import cross_val_score\n",
      "from sklearn.ensemble import RandomForestClassifier\n",
      "from sklearn.ensemble import ExtraTreesClassifier\n",
      "from sklearn.ensemble import AdaBoostClassifier\n",
      "from sklearn.tree import DecisionTreeClassifier\n",
      "from sklearn.tree import DecisionTreeRegressor\n",
      "from sklearn.naive_bayes import GaussianNB\n",
      "from sklearn import svm"
     ],
     "language": "python",
     "metadata": {},
     "outputs": [],
     "prompt_number": 7
    },
    {
     "cell_type": "code",
     "collapsed": false,
     "input": [
      "People = read_csv('machine_learn/HOG/csv_features/hog_features_9_NewTraining_Faces_everyones.csv')\n"
     ],
     "language": "python",
     "metadata": {},
     "outputs": [],
     "prompt_number": 13
    },
    {
     "cell_type": "heading",
     "level": 1,
     "metadata": {},
     "source": [
      "Add url field to features.csv, and save as pandas DataFrame"
     ]
    },
    {
     "cell_type": "code",
     "collapsed": false,
     "input": [
      "import pandas as pd\n",
      "from PIL import Image\n",
      "import cStringIO\n",
      "import urllib2\n",
      "import numpy as np"
     ],
     "language": "python",
     "metadata": {},
     "outputs": [],
     "prompt_number": 21
    },
    {
     "cell_type": "code",
     "collapsed": false,
     "input": [
      "pd.read_csv?"
     ],
     "language": "python",
     "metadata": {},
     "outputs": [],
     "prompt_number": 56
    },
    {
     "cell_type": "code",
     "collapsed": false,
     "input": [
      "feat='machine_learn/HOG/csv_features/old_NoUrlInfo/hog_features_9_NewTraining_Faces_everyones.csv'\n",
      "Faces = read_csv(feat,header=None)"
     ],
     "language": "python",
     "metadata": {},
     "outputs": [],
     "prompt_number": 104
    },
    {
     "cell_type": "code",
     "collapsed": false,
     "input": [
      "ind=Faces.values == 0\n",
      "ind_flat=np.where(ind[:,0]==True)\n",
      "ind_flat[0][1:]"
     ],
     "language": "python",
     "metadata": {},
     "outputs": [
      {
       "metadata": {},
       "output_type": "pyout",
       "prompt_number": 132,
       "text": [
        "array([252, 253, 254, 255, 256, 257, 258])"
       ]
      }
     ],
     "prompt_number": 132
    },
    {
     "cell_type": "code",
     "collapsed": false,
     "input": [
      "Faces.ix[251,0:10]"
     ],
     "language": "python",
     "metadata": {},
     "outputs": [
      {
       "metadata": {},
       "output_type": "pyout",
       "prompt_number": 137,
       "text": [
        "0     0.005794\n",
        "1     0.005115\n",
        "2     0.003976\n",
        "3     0.003501\n",
        "4     0.004560\n",
        "5     0.003647\n",
        "6     0.002675\n",
        "7     0.003181\n",
        "8     0.003992\n",
        "9     0.004811\n",
        "10    0.004440\n",
        "Name: 251, dtype: float64"
       ]
      }
     ],
     "prompt_number": 137
    },
    {
     "cell_type": "code",
     "collapsed": false,
     "input": [
      "a=Faces.ix[:251,:]"
     ],
     "language": "python",
     "metadata": {},
     "outputs": [],
     "prompt_number": 140
    },
    {
     "cell_type": "code",
     "collapsed": false,
     "input": [
      "c=np.ones((20,400))\n",
      "c_df= pd.DataFrame(c)\n",
      "c_df.head()"
     ],
     "language": "python",
     "metadata": {},
     "outputs": [
      {
       "html": [
        "<div style=\"max-height:1000px;max-width:1500px;overflow:auto;\">\n",
        "<table border=\"1\" class=\"dataframe\">\n",
        "  <thead>\n",
        "    <tr style=\"text-align: right;\">\n",
        "      <th></th>\n",
        "      <th>0</th>\n",
        "      <th>1</th>\n",
        "      <th>2</th>\n",
        "      <th>3</th>\n",
        "      <th>4</th>\n",
        "      <th>5</th>\n",
        "      <th>6</th>\n",
        "      <th>7</th>\n",
        "      <th>8</th>\n",
        "      <th>9</th>\n",
        "      <th>10</th>\n",
        "      <th>11</th>\n",
        "      <th>12</th>\n",
        "      <th>13</th>\n",
        "      <th>14</th>\n",
        "      <th>15</th>\n",
        "      <th>16</th>\n",
        "      <th>17</th>\n",
        "      <th>18</th>\n",
        "      <th>19</th>\n",
        "      <th></th>\n",
        "    </tr>\n",
        "  </thead>\n",
        "  <tbody>\n",
        "    <tr>\n",
        "      <th>0</th>\n",
        "      <td> 1</td>\n",
        "      <td> 1</td>\n",
        "      <td> 1</td>\n",
        "      <td> 1</td>\n",
        "      <td> 1</td>\n",
        "      <td> 1</td>\n",
        "      <td> 1</td>\n",
        "      <td> 1</td>\n",
        "      <td> 1</td>\n",
        "      <td> 1</td>\n",
        "      <td> 1</td>\n",
        "      <td> 1</td>\n",
        "      <td> 1</td>\n",
        "      <td> 1</td>\n",
        "      <td> 1</td>\n",
        "      <td> 1</td>\n",
        "      <td> 1</td>\n",
        "      <td> 1</td>\n",
        "      <td> 1</td>\n",
        "      <td> 1</td>\n",
        "      <td>...</td>\n",
        "    </tr>\n",
        "    <tr>\n",
        "      <th>1</th>\n",
        "      <td> 1</td>\n",
        "      <td> 1</td>\n",
        "      <td> 1</td>\n",
        "      <td> 1</td>\n",
        "      <td> 1</td>\n",
        "      <td> 1</td>\n",
        "      <td> 1</td>\n",
        "      <td> 1</td>\n",
        "      <td> 1</td>\n",
        "      <td> 1</td>\n",
        "      <td> 1</td>\n",
        "      <td> 1</td>\n",
        "      <td> 1</td>\n",
        "      <td> 1</td>\n",
        "      <td> 1</td>\n",
        "      <td> 1</td>\n",
        "      <td> 1</td>\n",
        "      <td> 1</td>\n",
        "      <td> 1</td>\n",
        "      <td> 1</td>\n",
        "      <td>...</td>\n",
        "    </tr>\n",
        "    <tr>\n",
        "      <th>2</th>\n",
        "      <td> 1</td>\n",
        "      <td> 1</td>\n",
        "      <td> 1</td>\n",
        "      <td> 1</td>\n",
        "      <td> 1</td>\n",
        "      <td> 1</td>\n",
        "      <td> 1</td>\n",
        "      <td> 1</td>\n",
        "      <td> 1</td>\n",
        "      <td> 1</td>\n",
        "      <td> 1</td>\n",
        "      <td> 1</td>\n",
        "      <td> 1</td>\n",
        "      <td> 1</td>\n",
        "      <td> 1</td>\n",
        "      <td> 1</td>\n",
        "      <td> 1</td>\n",
        "      <td> 1</td>\n",
        "      <td> 1</td>\n",
        "      <td> 1</td>\n",
        "      <td>...</td>\n",
        "    </tr>\n",
        "    <tr>\n",
        "      <th>3</th>\n",
        "      <td> 1</td>\n",
        "      <td> 1</td>\n",
        "      <td> 1</td>\n",
        "      <td> 1</td>\n",
        "      <td> 1</td>\n",
        "      <td> 1</td>\n",
        "      <td> 1</td>\n",
        "      <td> 1</td>\n",
        "      <td> 1</td>\n",
        "      <td> 1</td>\n",
        "      <td> 1</td>\n",
        "      <td> 1</td>\n",
        "      <td> 1</td>\n",
        "      <td> 1</td>\n",
        "      <td> 1</td>\n",
        "      <td> 1</td>\n",
        "      <td> 1</td>\n",
        "      <td> 1</td>\n",
        "      <td> 1</td>\n",
        "      <td> 1</td>\n",
        "      <td>...</td>\n",
        "    </tr>\n",
        "    <tr>\n",
        "      <th>4</th>\n",
        "      <td> 1</td>\n",
        "      <td> 1</td>\n",
        "      <td> 1</td>\n",
        "      <td> 1</td>\n",
        "      <td> 1</td>\n",
        "      <td> 1</td>\n",
        "      <td> 1</td>\n",
        "      <td> 1</td>\n",
        "      <td> 1</td>\n",
        "      <td> 1</td>\n",
        "      <td> 1</td>\n",
        "      <td> 1</td>\n",
        "      <td> 1</td>\n",
        "      <td> 1</td>\n",
        "      <td> 1</td>\n",
        "      <td> 1</td>\n",
        "      <td> 1</td>\n",
        "      <td> 1</td>\n",
        "      <td> 1</td>\n",
        "      <td> 1</td>\n",
        "      <td>...</td>\n",
        "    </tr>\n",
        "  </tbody>\n",
        "</table>\n",
        "<p>5 rows \u00d7 400 columns</p>\n",
        "</div>"
       ],
       "metadata": {},
       "output_type": "pyout",
       "prompt_number": 148,
       "text": [
        "   0   1   2   3   4   5   6   7   8   9   10  11  12  13  14  15  16  17  18  \\\n",
        "0   1   1   1   1   1   1   1   1   1   1   1   1   1   1   1   1   1   1   1   \n",
        "1   1   1   1   1   1   1   1   1   1   1   1   1   1   1   1   1   1   1   1   \n",
        "2   1   1   1   1   1   1   1   1   1   1   1   1   1   1   1   1   1   1   1   \n",
        "3   1   1   1   1   1   1   1   1   1   1   1   1   1   1   1   1   1   1   1   \n",
        "4   1   1   1   1   1   1   1   1   1   1   1   1   1   1   1   1   1   1   1   \n",
        "\n",
        "   19      \n",
        "0   1 ...  \n",
        "1   1 ...  \n",
        "2   1 ...  \n",
        "3   1 ...  \n",
        "4   1 ...  \n",
        "\n",
        "[5 rows x 400 columns]"
       ]
      }
     ],
     "prompt_number": 148
    },
    {
     "cell_type": "code",
     "collapsed": false,
     "input": [
      "a=Food.ix[0:248,:]\n",
      "a.tail()"
     ],
     "language": "python",
     "metadata": {},
     "outputs": [
      {
       "html": [
        "<div style=\"max-height:1000px;max-width:1500px;overflow:auto;\">\n",
        "<table border=\"1\" class=\"dataframe\">\n",
        "  <thead>\n",
        "    <tr style=\"text-align: right;\">\n",
        "      <th></th>\n",
        "      <th>0</th>\n",
        "      <th>1</th>\n",
        "      <th>2</th>\n",
        "      <th>3</th>\n",
        "      <th>4</th>\n",
        "      <th>5</th>\n",
        "      <th>6</th>\n",
        "      <th>7</th>\n",
        "      <th>8</th>\n",
        "      <th>9</th>\n",
        "      <th>10</th>\n",
        "      <th>11</th>\n",
        "      <th>12</th>\n",
        "      <th>13</th>\n",
        "      <th>14</th>\n",
        "      <th>15</th>\n",
        "      <th>16</th>\n",
        "      <th>17</th>\n",
        "      <th>18</th>\n",
        "      <th>19</th>\n",
        "      <th></th>\n",
        "    </tr>\n",
        "  </thead>\n",
        "  <tbody>\n",
        "    <tr>\n",
        "      <th>244</th>\n",
        "      <td> 0.002296</td>\n",
        "      <td> 0.001419</td>\n",
        "      <td> 0.002206</td>\n",
        "      <td> 0.002551</td>\n",
        "      <td> 0.002936</td>\n",
        "      <td> 0.002043</td>\n",
        "      <td> 0.001678</td>\n",
        "      <td> 0.001105</td>\n",
        "      <td> 0.000609</td>\n",
        "      <td> 0.001475</td>\n",
        "      <td> 0.000904</td>\n",
        "      <td> 0.001671</td>\n",
        "      <td> 0.002613</td>\n",
        "      <td> 0.008776</td>\n",
        "      <td> 0.006734</td>\n",
        "      <td> 0.001972</td>\n",
        "      <td> 0.000687</td>\n",
        "      <td> 0.000240</td>\n",
        "      <td> 0.000932</td>\n",
        "      <td> 0.000515</td>\n",
        "      <td>...</td>\n",
        "    </tr>\n",
        "    <tr>\n",
        "      <th>245</th>\n",
        "      <td> 0.001105</td>\n",
        "      <td> 0.000891</td>\n",
        "      <td> 0.001207</td>\n",
        "      <td> 0.001044</td>\n",
        "      <td> 0.000939</td>\n",
        "      <td> 0.000532</td>\n",
        "      <td> 0.000554</td>\n",
        "      <td> 0.000408</td>\n",
        "      <td> 0.000316</td>\n",
        "      <td> 0.001540</td>\n",
        "      <td> 0.001204</td>\n",
        "      <td> 0.001622</td>\n",
        "      <td> 0.001563</td>\n",
        "      <td> 0.002027</td>\n",
        "      <td> 0.002050</td>\n",
        "      <td> 0.002204</td>\n",
        "      <td> 0.001606</td>\n",
        "      <td> 0.001026</td>\n",
        "      <td> 0.001883</td>\n",
        "      <td> 0.001763</td>\n",
        "      <td>...</td>\n",
        "    </tr>\n",
        "    <tr>\n",
        "      <th>246</th>\n",
        "      <td> 0.002924</td>\n",
        "      <td> 0.002593</td>\n",
        "      <td> 0.003735</td>\n",
        "      <td> 0.006048</td>\n",
        "      <td> 0.008793</td>\n",
        "      <td> 0.003615</td>\n",
        "      <td> 0.002324</td>\n",
        "      <td> 0.001701</td>\n",
        "      <td> 0.001452</td>\n",
        "      <td> 0.002334</td>\n",
        "      <td> 0.001936</td>\n",
        "      <td> 0.002236</td>\n",
        "      <td> 0.005204</td>\n",
        "      <td> 0.010945</td>\n",
        "      <td> 0.003543</td>\n",
        "      <td> 0.001750</td>\n",
        "      <td> 0.001171</td>\n",
        "      <td> 0.001020</td>\n",
        "      <td> 0.003634</td>\n",
        "      <td> 0.002974</td>\n",
        "      <td>...</td>\n",
        "    </tr>\n",
        "    <tr>\n",
        "      <th>247</th>\n",
        "      <td> 0.002012</td>\n",
        "      <td> 0.002002</td>\n",
        "      <td> 0.002673</td>\n",
        "      <td> 0.004748</td>\n",
        "      <td> 0.013095</td>\n",
        "      <td> 0.005883</td>\n",
        "      <td> 0.002835</td>\n",
        "      <td> 0.001630</td>\n",
        "      <td> 0.001122</td>\n",
        "      <td> 0.001736</td>\n",
        "      <td> 0.001397</td>\n",
        "      <td> 0.002619</td>\n",
        "      <td> 0.004951</td>\n",
        "      <td> 0.007265</td>\n",
        "      <td> 0.003332</td>\n",
        "      <td> 0.001642</td>\n",
        "      <td> 0.000903</td>\n",
        "      <td> 0.000572</td>\n",
        "      <td> 0.001853</td>\n",
        "      <td> 0.001455</td>\n",
        "      <td>...</td>\n",
        "    </tr>\n",
        "    <tr>\n",
        "      <th>248</th>\n",
        "      <td> 0.006358</td>\n",
        "      <td> 0.007844</td>\n",
        "      <td> 0.007583</td>\n",
        "      <td> 0.005126</td>\n",
        "      <td> 0.003688</td>\n",
        "      <td> 0.002896</td>\n",
        "      <td> 0.002675</td>\n",
        "      <td> 0.003214</td>\n",
        "      <td> 0.003651</td>\n",
        "      <td> 0.004425</td>\n",
        "      <td> 0.004568</td>\n",
        "      <td> 0.004446</td>\n",
        "      <td> 0.003341</td>\n",
        "      <td> 0.002717</td>\n",
        "      <td> 0.001962</td>\n",
        "      <td> 0.001977</td>\n",
        "      <td> 0.002174</td>\n",
        "      <td> 0.002411</td>\n",
        "      <td> 0.004599</td>\n",
        "      <td> 0.004739</td>\n",
        "      <td>...</td>\n",
        "    </tr>\n",
        "  </tbody>\n",
        "</table>\n",
        "<p>5 rows \u00d7 900 columns</p>\n",
        "</div>"
       ],
       "metadata": {},
       "output_type": "pyout",
       "prompt_number": 102,
       "text": [
        "           0         1         2         3         4         5         6   \\\n",
        "244  0.002296  0.001419  0.002206  0.002551  0.002936  0.002043  0.001678   \n",
        "245  0.001105  0.000891  0.001207  0.001044  0.000939  0.000532  0.000554   \n",
        "246  0.002924  0.002593  0.003735  0.006048  0.008793  0.003615  0.002324   \n",
        "247  0.002012  0.002002  0.002673  0.004748  0.013095  0.005883  0.002835   \n",
        "248  0.006358  0.007844  0.007583  0.005126  0.003688  0.002896  0.002675   \n",
        "\n",
        "           7         8         9         10        11        12        13  \\\n",
        "244  0.001105  0.000609  0.001475  0.000904  0.001671  0.002613  0.008776   \n",
        "245  0.000408  0.000316  0.001540  0.001204  0.001622  0.001563  0.002027   \n",
        "246  0.001701  0.001452  0.002334  0.001936  0.002236  0.005204  0.010945   \n",
        "247  0.001630  0.001122  0.001736  0.001397  0.002619  0.004951  0.007265   \n",
        "248  0.003214  0.003651  0.004425  0.004568  0.004446  0.003341  0.002717   \n",
        "\n",
        "           14        15        16        17        18        19      \n",
        "244  0.006734  0.001972  0.000687  0.000240  0.000932  0.000515 ...  \n",
        "245  0.002050  0.002204  0.001606  0.001026  0.001883  0.001763 ...  \n",
        "246  0.003543  0.001750  0.001171  0.001020  0.003634  0.002974 ...  \n",
        "247  0.003332  0.001642  0.000903  0.000572  0.001853  0.001455 ...  \n",
        "248  0.001962  0.001977  0.002174  0.002411  0.004599  0.004739 ...  \n",
        "\n",
        "[5 rows x 900 columns]"
       ]
      }
     ],
     "prompt_number": 102
    },
    {
     "cell_type": "code",
     "collapsed": false,
     "input": [
      "url_file=\"machine_learn/training_image_urls/NewTraining_Faces_everyones.txt\"\n",
      "urls=np.loadtxt(url_file,dtype=\"str\")\n",
      "url_good_list=[]\n",
      "\n",
      "for url in urls:\n",
      "    try:\n",
      "        read= urllib2.urlopen(url).read()\n",
      "        url_good_list.append(url)\n",
      "    except urllib2.URLError:\n",
      "        continue\n"
     ],
     "language": "python",
     "metadata": {},
     "outputs": [],
     "prompt_number": 141
    },
    {
     "cell_type": "code",
     "collapsed": false,
     "input": [
      "urls_df=pd.DataFrame()\n",
      "urls_df[\"urls\"]= url_good_list"
     ],
     "language": "python",
     "metadata": {},
     "outputs": [],
     "prompt_number": 142
    },
    {
     "cell_type": "code",
     "collapsed": false,
     "input": [
      "urls_df.shape, a.shape"
     ],
     "language": "python",
     "metadata": {},
     "outputs": [
      {
       "metadata": {},
       "output_type": "pyout",
       "prompt_number": 143,
       "text": [
        "((251, 1), (252, 900))"
       ]
      }
     ],
     "prompt_number": 143
    },
    {
     "cell_type": "code",
     "collapsed": false,
     "input": [
      "b=pd.concat([urls,a],axis=1)\n",
      "b.tail()"
     ],
     "language": "python",
     "metadata": {},
     "outputs": [
      {
       "html": [
        "<div style=\"max-height:1000px;max-width:1500px;overflow:auto;\">\n",
        "<table border=\"1\" class=\"dataframe\">\n",
        "  <thead>\n",
        "    <tr style=\"text-align: right;\">\n",
        "      <th></th>\n",
        "      <th>urls</th>\n",
        "      <th>0</th>\n",
        "      <th>1</th>\n",
        "      <th>2</th>\n",
        "      <th>3</th>\n",
        "      <th>4</th>\n",
        "      <th>5</th>\n",
        "      <th>6</th>\n",
        "      <th>7</th>\n",
        "      <th>8</th>\n",
        "      <th>9</th>\n",
        "      <th>10</th>\n",
        "      <th>11</th>\n",
        "      <th>12</th>\n",
        "      <th>13</th>\n",
        "      <th>14</th>\n",
        "      <th>15</th>\n",
        "      <th>16</th>\n",
        "      <th>17</th>\n",
        "      <th>18</th>\n",
        "      <th></th>\n",
        "    </tr>\n",
        "  </thead>\n",
        "  <tbody>\n",
        "    <tr>\n",
        "      <th>244</th>\n",
        "      <td> http://scontent-b.cdninstagram.com/hphotos-xfp...</td>\n",
        "      <td> 0.002296</td>\n",
        "      <td> 0.001419</td>\n",
        "      <td> 0.002206</td>\n",
        "      <td> 0.002551</td>\n",
        "      <td> 0.002936</td>\n",
        "      <td> 0.002043</td>\n",
        "      <td> 0.001678</td>\n",
        "      <td> 0.001105</td>\n",
        "      <td> 0.000609</td>\n",
        "      <td> 0.001475</td>\n",
        "      <td> 0.000904</td>\n",
        "      <td> 0.001671</td>\n",
        "      <td> 0.002613</td>\n",
        "      <td> 0.008776</td>\n",
        "      <td> 0.006734</td>\n",
        "      <td> 0.001972</td>\n",
        "      <td> 0.000687</td>\n",
        "      <td> 0.000240</td>\n",
        "      <td> 0.000932</td>\n",
        "      <td>...</td>\n",
        "    </tr>\n",
        "    <tr>\n",
        "      <th>245</th>\n",
        "      <td> http://scontent-b.cdninstagram.com/hphotos-xap...</td>\n",
        "      <td> 0.001105</td>\n",
        "      <td> 0.000891</td>\n",
        "      <td> 0.001207</td>\n",
        "      <td> 0.001044</td>\n",
        "      <td> 0.000939</td>\n",
        "      <td> 0.000532</td>\n",
        "      <td> 0.000554</td>\n",
        "      <td> 0.000408</td>\n",
        "      <td> 0.000316</td>\n",
        "      <td> 0.001540</td>\n",
        "      <td> 0.001204</td>\n",
        "      <td> 0.001622</td>\n",
        "      <td> 0.001563</td>\n",
        "      <td> 0.002027</td>\n",
        "      <td> 0.002050</td>\n",
        "      <td> 0.002204</td>\n",
        "      <td> 0.001606</td>\n",
        "      <td> 0.001026</td>\n",
        "      <td> 0.001883</td>\n",
        "      <td>...</td>\n",
        "    </tr>\n",
        "    <tr>\n",
        "      <th>246</th>\n",
        "      <td> http://scontent-b.cdninstagram.com/hphotos-xfp...</td>\n",
        "      <td> 0.002924</td>\n",
        "      <td> 0.002593</td>\n",
        "      <td> 0.003735</td>\n",
        "      <td> 0.006048</td>\n",
        "      <td> 0.008793</td>\n",
        "      <td> 0.003615</td>\n",
        "      <td> 0.002324</td>\n",
        "      <td> 0.001701</td>\n",
        "      <td> 0.001452</td>\n",
        "      <td> 0.002334</td>\n",
        "      <td> 0.001936</td>\n",
        "      <td> 0.002236</td>\n",
        "      <td> 0.005204</td>\n",
        "      <td> 0.010945</td>\n",
        "      <td> 0.003543</td>\n",
        "      <td> 0.001750</td>\n",
        "      <td> 0.001171</td>\n",
        "      <td> 0.001020</td>\n",
        "      <td> 0.003634</td>\n",
        "      <td>...</td>\n",
        "    </tr>\n",
        "    <tr>\n",
        "      <th>247</th>\n",
        "      <td> http://scontent-b.cdninstagram.com/hphotos-xaf...</td>\n",
        "      <td> 0.002012</td>\n",
        "      <td> 0.002002</td>\n",
        "      <td> 0.002673</td>\n",
        "      <td> 0.004748</td>\n",
        "      <td> 0.013095</td>\n",
        "      <td> 0.005883</td>\n",
        "      <td> 0.002835</td>\n",
        "      <td> 0.001630</td>\n",
        "      <td> 0.001122</td>\n",
        "      <td> 0.001736</td>\n",
        "      <td> 0.001397</td>\n",
        "      <td> 0.002619</td>\n",
        "      <td> 0.004951</td>\n",
        "      <td> 0.007265</td>\n",
        "      <td> 0.003332</td>\n",
        "      <td> 0.001642</td>\n",
        "      <td> 0.000903</td>\n",
        "      <td> 0.000572</td>\n",
        "      <td> 0.001853</td>\n",
        "      <td>...</td>\n",
        "    </tr>\n",
        "    <tr>\n",
        "      <th>248</th>\n",
        "      <td> http://scontent-a.cdninstagram.com/hphotos-xfp...</td>\n",
        "      <td> 0.006358</td>\n",
        "      <td> 0.007844</td>\n",
        "      <td> 0.007583</td>\n",
        "      <td> 0.005126</td>\n",
        "      <td> 0.003688</td>\n",
        "      <td> 0.002896</td>\n",
        "      <td> 0.002675</td>\n",
        "      <td> 0.003214</td>\n",
        "      <td> 0.003651</td>\n",
        "      <td> 0.004425</td>\n",
        "      <td> 0.004568</td>\n",
        "      <td> 0.004446</td>\n",
        "      <td> 0.003341</td>\n",
        "      <td> 0.002717</td>\n",
        "      <td> 0.001962</td>\n",
        "      <td> 0.001977</td>\n",
        "      <td> 0.002174</td>\n",
        "      <td> 0.002411</td>\n",
        "      <td> 0.004599</td>\n",
        "      <td>...</td>\n",
        "    </tr>\n",
        "  </tbody>\n",
        "</table>\n",
        "<p>5 rows \u00d7 901 columns</p>\n",
        "</div>"
       ],
       "metadata": {},
       "output_type": "pyout",
       "prompt_number": 97,
       "text": [
        "                                                  urls         0         1  \\\n",
        "244  http://scontent-b.cdninstagram.com/hphotos-xfp...  0.002296  0.001419   \n",
        "245  http://scontent-b.cdninstagram.com/hphotos-xap...  0.001105  0.000891   \n",
        "246  http://scontent-b.cdninstagram.com/hphotos-xfp...  0.002924  0.002593   \n",
        "247  http://scontent-b.cdninstagram.com/hphotos-xaf...  0.002012  0.002002   \n",
        "248  http://scontent-a.cdninstagram.com/hphotos-xfp...  0.006358  0.007844   \n",
        "\n",
        "            2         3         4         5         6         7         8  \\\n",
        "244  0.002206  0.002551  0.002936  0.002043  0.001678  0.001105  0.000609   \n",
        "245  0.001207  0.001044  0.000939  0.000532  0.000554  0.000408  0.000316   \n",
        "246  0.003735  0.006048  0.008793  0.003615  0.002324  0.001701  0.001452   \n",
        "247  0.002673  0.004748  0.013095  0.005883  0.002835  0.001630  0.001122   \n",
        "248  0.007583  0.005126  0.003688  0.002896  0.002675  0.003214  0.003651   \n",
        "\n",
        "            9        10        11        12        13        14        15  \\\n",
        "244  0.001475  0.000904  0.001671  0.002613  0.008776  0.006734  0.001972   \n",
        "245  0.001540  0.001204  0.001622  0.001563  0.002027  0.002050  0.002204   \n",
        "246  0.002334  0.001936  0.002236  0.005204  0.010945  0.003543  0.001750   \n",
        "247  0.001736  0.001397  0.002619  0.004951  0.007265  0.003332  0.001642   \n",
        "248  0.004425  0.004568  0.004446  0.003341  0.002717  0.001962  0.001977   \n",
        "\n",
        "           16        17        18      \n",
        "244  0.000687  0.000240  0.000932 ...  \n",
        "245  0.001606  0.001026  0.001883 ...  \n",
        "246  0.001171  0.001020  0.003634 ...  \n",
        "247  0.000903  0.000572  0.001853 ...  \n",
        "248  0.002174  0.002411  0.004599 ...  \n",
        "\n",
        "[5 rows x 901 columns]"
       ]
      }
     ],
     "prompt_number": 97
    },
    {
     "cell_type": "code",
     "collapsed": false,
     "input": [
      "b.to_csv(\"hog_features_9_NewTraining_Food_everyones.csv\")"
     ],
     "language": "python",
     "metadata": {},
     "outputs": [],
     "prompt_number": 98
    },
    {
     "cell_type": "code",
     "collapsed": false,
     "input": [
      "url_good_list= np.array(url_good_list)\n",
      "url_good_list.shape"
     ],
     "language": "python",
     "metadata": {},
     "outputs": [
      {
       "metadata": {},
       "output_type": "pyout",
       "prompt_number": 28,
       "text": [
        "(249,)"
       ]
      }
     ],
     "prompt_number": 28
    },
    {
     "cell_type": "code",
     "collapsed": false,
     "input": [
      "Food.shape"
     ],
     "language": "python",
     "metadata": {},
     "outputs": [
      {
       "metadata": {},
       "output_type": "pyout",
       "prompt_number": 52,
       "text": [
        "(249, 900)"
       ]
      }
     ],
     "prompt_number": 52
    },
    {
     "cell_type": "code",
     "collapsed": false,
     "input": [
      "Food_df=pd.DataFrame(Food)"
     ],
     "language": "python",
     "metadata": {},
     "outputs": [],
     "prompt_number": 43
    },
    {
     "cell_type": "code",
     "collapsed": false,
     "input": [
      "type(Food)"
     ],
     "language": "python",
     "metadata": {},
     "outputs": [
      {
       "metadata": {},
       "output_type": "pyout",
       "prompt_number": 54,
       "text": [
        "pandas.core.frame.DataFrame"
       ]
      }
     ],
     "prompt_number": 54
    },
    {
     "cell_type": "code",
     "collapsed": false,
     "input": [
      "Food[5,100]#,Food_df[5,100]"
     ],
     "language": "python",
     "metadata": {},
     "outputs": [
      {
       "ename": "KeyError",
       "evalue": "u'no item named (5, 100)'",
       "output_type": "pyerr",
       "traceback": [
        "\u001b[0;31m---------------------------------------------------------------------------\u001b[0m\n\u001b[0;31mKeyError\u001b[0m                                  Traceback (most recent call last)",
        "\u001b[0;32m<ipython-input-49-075a42cab94f>\u001b[0m in \u001b[0;36m<module>\u001b[0;34m()\u001b[0m\n\u001b[0;32m----> 1\u001b[0;31m \u001b[0mFood\u001b[0m\u001b[0;34m[\u001b[0m\u001b[0;36m5\u001b[0m\u001b[0;34m,\u001b[0m\u001b[0;36m100\u001b[0m\u001b[0;34m]\u001b[0m\u001b[0;31m#,Food_df[5,100]\u001b[0m\u001b[0;34m\u001b[0m\u001b[0m\n\u001b[0m",
        "\u001b[0;32m/Users/kburleigh/anaconda/lib/python2.7/site-packages/pandas/core/frame.pyc\u001b[0m in \u001b[0;36m__getitem__\u001b[0;34m(self, key)\u001b[0m\n\u001b[1;32m   1633\u001b[0m             \u001b[0;32mreturn\u001b[0m \u001b[0mself\u001b[0m\u001b[0;34m.\u001b[0m\u001b[0m_getitem_multilevel\u001b[0m\u001b[0;34m(\u001b[0m\u001b[0mkey\u001b[0m\u001b[0;34m)\u001b[0m\u001b[0;34m\u001b[0m\u001b[0m\n\u001b[1;32m   1634\u001b[0m         \u001b[0;32melse\u001b[0m\u001b[0;34m:\u001b[0m\u001b[0;34m\u001b[0m\u001b[0m\n\u001b[0;32m-> 1635\u001b[0;31m             \u001b[0;32mreturn\u001b[0m \u001b[0mself\u001b[0m\u001b[0;34m.\u001b[0m\u001b[0m_getitem_column\u001b[0m\u001b[0;34m(\u001b[0m\u001b[0mkey\u001b[0m\u001b[0;34m)\u001b[0m\u001b[0;34m\u001b[0m\u001b[0m\n\u001b[0m\u001b[1;32m   1636\u001b[0m \u001b[0;34m\u001b[0m\u001b[0m\n\u001b[1;32m   1637\u001b[0m     \u001b[0;32mdef\u001b[0m \u001b[0m_getitem_column\u001b[0m\u001b[0;34m(\u001b[0m\u001b[0mself\u001b[0m\u001b[0;34m,\u001b[0m \u001b[0mkey\u001b[0m\u001b[0;34m)\u001b[0m\u001b[0;34m:\u001b[0m\u001b[0;34m\u001b[0m\u001b[0m\n",
        "\u001b[0;32m/Users/kburleigh/anaconda/lib/python2.7/site-packages/pandas/core/frame.pyc\u001b[0m in \u001b[0;36m_getitem_column\u001b[0;34m(self, key)\u001b[0m\n\u001b[1;32m   1640\u001b[0m         \u001b[0;31m# get column\u001b[0m\u001b[0;34m\u001b[0m\u001b[0;34m\u001b[0m\u001b[0m\n\u001b[1;32m   1641\u001b[0m         \u001b[0;32mif\u001b[0m \u001b[0mself\u001b[0m\u001b[0;34m.\u001b[0m\u001b[0mcolumns\u001b[0m\u001b[0;34m.\u001b[0m\u001b[0mis_unique\u001b[0m\u001b[0;34m:\u001b[0m\u001b[0;34m\u001b[0m\u001b[0m\n\u001b[0;32m-> 1642\u001b[0;31m             \u001b[0;32mreturn\u001b[0m \u001b[0mself\u001b[0m\u001b[0;34m.\u001b[0m\u001b[0m_get_item_cache\u001b[0m\u001b[0;34m(\u001b[0m\u001b[0mkey\u001b[0m\u001b[0;34m)\u001b[0m\u001b[0;34m\u001b[0m\u001b[0m\n\u001b[0m\u001b[1;32m   1643\u001b[0m \u001b[0;34m\u001b[0m\u001b[0m\n\u001b[1;32m   1644\u001b[0m         \u001b[0;31m# duplicate columns & possible reduce dimensionaility\u001b[0m\u001b[0;34m\u001b[0m\u001b[0;34m\u001b[0m\u001b[0m\n",
        "\u001b[0;32m/Users/kburleigh/anaconda/lib/python2.7/site-packages/pandas/core/generic.pyc\u001b[0m in \u001b[0;36m_get_item_cache\u001b[0;34m(self, item)\u001b[0m\n\u001b[1;32m    981\u001b[0m         \u001b[0mres\u001b[0m \u001b[0;34m=\u001b[0m \u001b[0mcache\u001b[0m\u001b[0;34m.\u001b[0m\u001b[0mget\u001b[0m\u001b[0;34m(\u001b[0m\u001b[0mitem\u001b[0m\u001b[0;34m)\u001b[0m\u001b[0;34m\u001b[0m\u001b[0m\n\u001b[1;32m    982\u001b[0m         \u001b[0;32mif\u001b[0m \u001b[0mres\u001b[0m \u001b[0;32mis\u001b[0m \u001b[0mNone\u001b[0m\u001b[0;34m:\u001b[0m\u001b[0;34m\u001b[0m\u001b[0m\n\u001b[0;32m--> 983\u001b[0;31m             \u001b[0mvalues\u001b[0m \u001b[0;34m=\u001b[0m \u001b[0mself\u001b[0m\u001b[0;34m.\u001b[0m\u001b[0m_data\u001b[0m\u001b[0;34m.\u001b[0m\u001b[0mget\u001b[0m\u001b[0;34m(\u001b[0m\u001b[0mitem\u001b[0m\u001b[0;34m)\u001b[0m\u001b[0;34m\u001b[0m\u001b[0m\n\u001b[0m\u001b[1;32m    984\u001b[0m             \u001b[0mres\u001b[0m \u001b[0;34m=\u001b[0m \u001b[0mself\u001b[0m\u001b[0;34m.\u001b[0m\u001b[0m_box_item_values\u001b[0m\u001b[0;34m(\u001b[0m\u001b[0mitem\u001b[0m\u001b[0;34m,\u001b[0m \u001b[0mvalues\u001b[0m\u001b[0;34m)\u001b[0m\u001b[0;34m\u001b[0m\u001b[0m\n\u001b[1;32m    985\u001b[0m             \u001b[0mcache\u001b[0m\u001b[0;34m[\u001b[0m\u001b[0mitem\u001b[0m\u001b[0;34m]\u001b[0m \u001b[0;34m=\u001b[0m \u001b[0mres\u001b[0m\u001b[0;34m\u001b[0m\u001b[0m\n",
        "\u001b[0;32m/Users/kburleigh/anaconda/lib/python2.7/site-packages/pandas/core/internals.pyc\u001b[0m in \u001b[0;36mget\u001b[0;34m(self, item)\u001b[0m\n\u001b[1;32m   2752\u001b[0m                 \u001b[0;32mreturn\u001b[0m \u001b[0mself\u001b[0m\u001b[0;34m.\u001b[0m\u001b[0mget_for_nan_indexer\u001b[0m\u001b[0;34m(\u001b[0m\u001b[0mindexer\u001b[0m\u001b[0;34m)\u001b[0m\u001b[0;34m\u001b[0m\u001b[0m\n\u001b[1;32m   2753\u001b[0m \u001b[0;34m\u001b[0m\u001b[0m\n\u001b[0;32m-> 2754\u001b[0;31m             \u001b[0m_\u001b[0m\u001b[0;34m,\u001b[0m \u001b[0mblock\u001b[0m \u001b[0;34m=\u001b[0m \u001b[0mself\u001b[0m\u001b[0;34m.\u001b[0m\u001b[0m_find_block\u001b[0m\u001b[0;34m(\u001b[0m\u001b[0mitem\u001b[0m\u001b[0;34m)\u001b[0m\u001b[0;34m\u001b[0m\u001b[0m\n\u001b[0m\u001b[1;32m   2755\u001b[0m             \u001b[0;32mreturn\u001b[0m \u001b[0mblock\u001b[0m\u001b[0;34m.\u001b[0m\u001b[0mget\u001b[0m\u001b[0;34m(\u001b[0m\u001b[0mitem\u001b[0m\u001b[0;34m)\u001b[0m\u001b[0;34m\u001b[0m\u001b[0m\n\u001b[1;32m   2756\u001b[0m         \u001b[0;32melse\u001b[0m\u001b[0;34m:\u001b[0m\u001b[0;34m\u001b[0m\u001b[0m\n",
        "\u001b[0;32m/Users/kburleigh/anaconda/lib/python2.7/site-packages/pandas/core/internals.pyc\u001b[0m in \u001b[0;36m_find_block\u001b[0;34m(self, item)\u001b[0m\n\u001b[1;32m   3063\u001b[0m \u001b[0;34m\u001b[0m\u001b[0m\n\u001b[1;32m   3064\u001b[0m     \u001b[0;32mdef\u001b[0m \u001b[0m_find_block\u001b[0m\u001b[0;34m(\u001b[0m\u001b[0mself\u001b[0m\u001b[0;34m,\u001b[0m \u001b[0mitem\u001b[0m\u001b[0;34m)\u001b[0m\u001b[0;34m:\u001b[0m\u001b[0;34m\u001b[0m\u001b[0m\n\u001b[0;32m-> 3065\u001b[0;31m         \u001b[0mself\u001b[0m\u001b[0;34m.\u001b[0m\u001b[0m_check_have\u001b[0m\u001b[0;34m(\u001b[0m\u001b[0mitem\u001b[0m\u001b[0;34m)\u001b[0m\u001b[0;34m\u001b[0m\u001b[0m\n\u001b[0m\u001b[1;32m   3066\u001b[0m         \u001b[0;32mfor\u001b[0m \u001b[0mi\u001b[0m\u001b[0;34m,\u001b[0m \u001b[0mblock\u001b[0m \u001b[0;32min\u001b[0m \u001b[0menumerate\u001b[0m\u001b[0;34m(\u001b[0m\u001b[0mself\u001b[0m\u001b[0;34m.\u001b[0m\u001b[0mblocks\u001b[0m\u001b[0;34m)\u001b[0m\u001b[0;34m:\u001b[0m\u001b[0;34m\u001b[0m\u001b[0m\n\u001b[1;32m   3067\u001b[0m             \u001b[0;32mif\u001b[0m \u001b[0mitem\u001b[0m \u001b[0;32min\u001b[0m \u001b[0mblock\u001b[0m\u001b[0;34m:\u001b[0m\u001b[0;34m\u001b[0m\u001b[0m\n",
        "\u001b[0;32m/Users/kburleigh/anaconda/lib/python2.7/site-packages/pandas/core/internals.pyc\u001b[0m in \u001b[0;36m_check_have\u001b[0;34m(self, item)\u001b[0m\n\u001b[1;32m   3070\u001b[0m     \u001b[0;32mdef\u001b[0m \u001b[0m_check_have\u001b[0m\u001b[0;34m(\u001b[0m\u001b[0mself\u001b[0m\u001b[0;34m,\u001b[0m \u001b[0mitem\u001b[0m\u001b[0;34m)\u001b[0m\u001b[0;34m:\u001b[0m\u001b[0;34m\u001b[0m\u001b[0m\n\u001b[1;32m   3071\u001b[0m         \u001b[0;32mif\u001b[0m \u001b[0mitem\u001b[0m \u001b[0;32mnot\u001b[0m \u001b[0;32min\u001b[0m \u001b[0mself\u001b[0m\u001b[0;34m.\u001b[0m\u001b[0mitems\u001b[0m\u001b[0;34m:\u001b[0m\u001b[0;34m\u001b[0m\u001b[0m\n\u001b[0;32m-> 3072\u001b[0;31m             \u001b[0;32mraise\u001b[0m \u001b[0mKeyError\u001b[0m\u001b[0;34m(\u001b[0m\u001b[0;34m'no item named %s'\u001b[0m \u001b[0;34m%\u001b[0m \u001b[0mcom\u001b[0m\u001b[0;34m.\u001b[0m\u001b[0mpprint_thing\u001b[0m\u001b[0;34m(\u001b[0m\u001b[0mitem\u001b[0m\u001b[0;34m)\u001b[0m\u001b[0;34m)\u001b[0m\u001b[0;34m\u001b[0m\u001b[0m\n\u001b[0m\u001b[1;32m   3073\u001b[0m \u001b[0;34m\u001b[0m\u001b[0m\n\u001b[1;32m   3074\u001b[0m     def reindex_axis(self, new_axis, indexer=None, method=None, axis=0,\n",
        "\u001b[0;31mKeyError\u001b[0m: u'no item named (5, 100)'"
       ]
      }
     ],
     "prompt_number": 49
    },
    {
     "cell_type": "code",
     "collapsed": false,
     "input": [
      "food_df= pd.DataFrame()\n",
      "food_df"
     ],
     "language": "python",
     "metadata": {},
     "outputs": []
    },
    {
     "cell_type": "code",
     "collapsed": false,
     "input": [
      "print urls.shape,urls[0:10]"
     ],
     "language": "python",
     "metadata": {},
     "outputs": [
      {
       "output_type": "stream",
       "stream": "stdout",
       "text": [
        "(250,) [ 'http://scontent-a.cdninstagram.com/hphotos-xfa1/t51.2885-15/10576064_262502843940251_523348323_n.jpg'\n",
        " 'http://scontent-a.cdninstagram.com/hphotos-xfa1/t51.2885-15/10575977_271052399767615_896800368_n.jpg'\n",
        " 'http://scontent-b.cdninstagram.com/hphotos-xpa1/t51.2885-15/928636_704202829649887_541257724_n.jpg'\n",
        " 'http://scontent-b.cdninstagram.com/hphotos-xpa1/t51.2885-15/10513723_667449300003657_211260558_n.jpg'\n",
        " 'http://scontent-a.cdninstagram.com/hphotos-xap1/t51.2885-15/10520220_1447171665569442_287562932_n.jpg'\n",
        " 'http://scontent-b.cdninstagram.com/hphotos-xpa1/t51.2885-15/10538717_413119388826897_11899544_n.jpg'\n",
        " 'http://scontent-a.cdninstagram.com/hphotos-xpa1/t51.2885-15/10488638_368127123334400_926998021_n.jpg'\n",
        " 'http://scontent-b.cdninstagram.com/hphotos-xpa1/t51.2885-15/10518221_832001020145560_215617438_n.jpg'\n",
        " 'http://scontent-a.cdninstagram.com/hphotos-xpa1/t51.2885-15/10513979_344060012418417_1965524293_n.jpg'\n",
        " 'http://scontent-b.cdninstagram.com/hphotos-xpa1/t51.2885-15/10520255_780669968649976_1874690894_n.jpg']\n"
       ]
      }
     ],
     "prompt_number": 25
    },
    {
     "cell_type": "code",
     "collapsed": false,
     "input": [
      "urls_df= pd.DataFrame()\n",
      "urls_df[\"urls\"]= url_good_list"
     ],
     "language": "python",
     "metadata": {},
     "outputs": []
    },
    {
     "cell_type": "code",
     "collapsed": false,
     "input": [
      "a=pd.DataFrame()\n",
      "a[\"test\"]=range(10)\n"
     ],
     "language": "python",
     "metadata": {},
     "outputs": [],
     "prompt_number": 16
    },
    {
     "cell_type": "code",
     "collapsed": false,
     "input": [],
     "language": "python",
     "metadata": {},
     "outputs": []
    },
    {
     "cell_type": "code",
     "collapsed": false,
     "input": [
      "a.head()\n"
     ],
     "language": "python",
     "metadata": {},
     "outputs": [
      {
       "html": [
        "<div style=\"max-height:1000px;max-width:1500px;overflow:auto;\">\n",
        "<table border=\"1\" class=\"dataframe\">\n",
        "  <thead>\n",
        "    <tr style=\"text-align: right;\">\n",
        "      <th></th>\n",
        "      <th>test</th>\n",
        "    </tr>\n",
        "  </thead>\n",
        "  <tbody>\n",
        "    <tr>\n",
        "      <th>0</th>\n",
        "      <td> 0</td>\n",
        "    </tr>\n",
        "    <tr>\n",
        "      <th>1</th>\n",
        "      <td> 1</td>\n",
        "    </tr>\n",
        "    <tr>\n",
        "      <th>2</th>\n",
        "      <td> 2</td>\n",
        "    </tr>\n",
        "    <tr>\n",
        "      <th>3</th>\n",
        "      <td> 3</td>\n",
        "    </tr>\n",
        "    <tr>\n",
        "      <th>4</th>\n",
        "      <td> 4</td>\n",
        "    </tr>\n",
        "  </tbody>\n",
        "</table>\n",
        "<p>5 rows \u00d7 1 columns</p>\n",
        "</div>"
       ],
       "metadata": {},
       "output_type": "pyout",
       "prompt_number": 17,
       "text": [
        "   test\n",
        "0     0\n",
        "1     1\n",
        "2     2\n",
        "3     3\n",
        "4     4\n",
        "\n",
        "[5 rows x 1 columns]"
       ]
      }
     ],
     "prompt_number": 17
    },
    {
     "cell_type": "code",
     "collapsed": false,
     "input": [
      "\n",
      "print \"Data loaded\"\n",
      "\n",
      "P=zeros(100)\n",
      "N=zeros(100)\n",
      "\n",
      "TP2=zeros(100)\n",
      "TN2=zeros(100)\n",
      "FP2=zeros(100)\n",
      "FN2=zeros(100)\n",
      "\n",
      "TP6=zeros(100)\n",
      "TN6=zeros(100)\n",
      "FP6=zeros(100)\n",
      "FN6=zeros(100)\n",
      "\n",
      "combined_array = zeros((10, 100))\n",
      "\n",
      "# for n in range(0,100):\n",
      "for n in range(0,5):\n",
      "    print n\n",
      "    \n",
      "    cTrainF = rand(len(Food)) > .3\n",
      "    cTestF = ~cTrainF\n",
      "    cTrainP = rand(len(People)) > .3\n",
      "    cTestP = ~cTrainP\n",
      "\n",
      "    TrainX = concatenate([People[cTrainP], Food[cTrainF]])\n",
      "    TestX = concatenate([People[cTestP], Food[cTestF]])\n",
      "    TrainY = concatenate([ones(len(People[cTrainP])), zeros(len(Food[cTrainF]))])\n",
      "    TestY = concatenate([ones(len(People[cTestP])), zeros(len(Food[cTestF]))])\n",
      "\n",
      "#     print \"Test/train selected\"\n",
      "\n",
      "    P[n] = len(People[cTestP])\n",
      "    N[n] = len(Food[cTestF])\n",
      "\n",
      "    forest2 = ExtraTreesClassifier(n_estimators=50, max_depth=None, min_samples_split=1, random_state=0)\n",
      "    forest2.fit(TrainX,TrainY)\n",
      "    forestOut2 = forest2.predict(TestX)  \n",
      "    print \"ET:\",fourestOut2.shape,fourestOut2.shape                            \n",
      "    TP2[n] = sum(forestOut2[0:P[n]] == TestY[0:P[n]])\n",
      "    TN2[n] = sum(forestOut2[P[n]+1:] == TestY[P[n]+1:])\n",
      "    FP2[n] = N[n] - TN2[n]\n",
      "    FN2[n] = P[n] - TP2[n]\n",
      "\n",
      "#     print \"ET classifier completed\"\n",
      "\n",
      "    clf2 = svm.LinearSVC()\n",
      "    clf2.fit(TrainX,TrainY)\n",
      "    clfOut2 = clf2.predict(TestX)\n",
      "    print \"SVM:\", clfOut2, clfOut2.shape\n",
      "    TP6[n] = sum(clfOut2[0:P[n]] == TestY[0:P[n]])\n",
      "    TN6[n] = sum(clfOut2[P[n]+1:] == TestY[P[n]+1:])\n",
      "    FP6[n] = N[n] - TN6[n]\n",
      "    FN6[n] = P[n] - TP6[n]"
     ],
     "language": "python",
     "metadata": {},
     "outputs": []
    },
    {
     "cell_type": "heading",
     "level": 1,
     "metadata": {},
     "source": [
      "feature output with urls"
     ]
    },
    {
     "cell_type": "code",
     "collapsed": false,
     "input": [
      "!ls machine_learn/\n"
     ],
     "language": "python",
     "metadata": {},
     "outputs": [
      {
       "output_type": "stream",
       "stream": "stdout",
       "text": [
        "Blob_Features.py  README.md         config.py         requirements.txt  \u001b[1m\u001b[36mtmp\u001b[m\u001b[m\r\n",
        "Blob_Features.pyc Testing.ipynb     config.pyc        skinmap.py        \u001b[1m\u001b[36muploads\u001b[m\u001b[m\r\n",
        "COMMIT_MSG.txt    __init__.py       \u001b[1m\u001b[36mmachine_learn\u001b[m\u001b[m     skinmap.pyc       views.py\r\n",
        "LICENSE           \u001b[1m\u001b[36mapp\u001b[m\u001b[m               plot_training.py  \u001b[1m\u001b[36mtemplates\u001b[m\u001b[m         virtualenv.pyc\r\n"
       ]
      }
     ],
     "prompt_number": 151
    },
    {
     "cell_type": "code",
     "collapsed": false,
     "input": [
      "import skinmap as sm\n",
      "from matplotlib import pyplot as plt\n",
      "from matplotlib import image as mpimg\n",
      "from scipy import sqrt, pi, arctan2, cos, sin, ndimage, fftpack, stats\n",
      "from skimage import exposure, measure, feature\n",
      "import pandas as pd\n",
      "from PIL import Image\n",
      "import cStringIO\n",
      "import urllib2\n",
      "import numpy as np\n",
      "from pylab import *"
     ],
     "language": "python",
     "metadata": {},
     "outputs": [],
     "prompt_number": 153
    },
    {
     "cell_type": "code",
     "collapsed": false,
     "input": [
      "'''outputs features for HOG machine learning'''\n",
      "\n",
      "#http://pydoc.net/Python/scikits-image/0.4.2/skimage.feature.hog/\n",
      "\n",
      "\n",
      "#http://pydoc.net/Python/scikits-image/0.4.2/skimage.feature.hog/\n",
      "\n",
      "#labels_df = pd.DataFrame(columns=['blocks'])\n",
      "\n",
      "#get url\n",
      "file=\"machine_learn/training_image_urls/NewTraining_Faces_everyones.txt\"\n",
      "urls=np.loadtxt(file,dtype=\"str\")\n",
      "\n",
      "url_good_list=[]\n",
      "for url in urls:\n",
      "    try:\n",
      "        read= urllib2.urlopen(url).read()\n",
      "        url_good_list.append(url)\n",
      "    except urllib2.URLError:\n",
      "        continue\n",
      "\n",
      "nrow = len(url_good_list)\n",
      "#labels_df = np.zeros((nrow, 8100)) #People_Feature_7.csv Food_Feature_7.csv\n",
      "#labels_df = np.zeros((nrow, 15390)) #People_Feature_8.csv Food_Feature_8.csv\n",
      "#labels_df = np.zeros((nrow, 1296)) #People_Feature_9.csv Food_Feature_9.csv\n",
      "#labels_df = np.zeros((nrow, 29241)) #People_Feature_10.csv Food_Feature_10.csv\n",
      "\n",
      "#labels_df = np.zeros((nrow, 29241)) #People_All_1.csv Food_All_1.csv\n",
      "#labels_df = np.zeros((nrow, 46656)) #People_All_2.csv Food_All_2.csv\n",
      "#labels_df = np.zeros((nrow, 65025)) #People_All_3.csv Food_All_3.csv\n",
      "#labels_df = np.zeros((nrow, 8100)) #People_All_4.csv Food_All_4.csv\n",
      "#labels_df = np.zeros((nrow, 11664)) #People_All_5.csv Food_All_5.csv\n",
      "#labels_df = np.zeros((nrow, 14400)) #People_All_6.csv Food_All_6.csv\n",
      "#labels_df = np.zeros((nrow, 1296)) #People_All_7.csv Food_All_7.csv\n",
      "#labels_df = np.zeros((nrow, 1296)) #People_All_8.csv Food_All_8.csv\n",
      "feat = np.zeros((nrow, 900)) #People_All_9.csv Food_All_9.csv\n",
      "\n",
      "count=0\n",
      "for url in url_good_list:\n",
      "    read= urllib2.urlopen(url).read()\n",
      "    obj = Image.open( cStringIO.StringIO(read) )\n",
      "    img = np.array(obj.convert('L'))\n",
      "    #blocks = feature.hog(img, pixels_per_cell=(50, 50), cells_per_block=(3, 3), visualise=False, normalise=True) #People_Feature_7.csv Food_Feature_7.csv\n",
      "    #blocks = feature.hog(img, orientations=9, pixels_per_cell=(50,30), cells_per_block=(3,3), visualise=False, normalise=True) #People_Feature_8.csv Food_Feature_8.csv\n",
      "    #blocks = feature.hog(img, orientations=9, pixels_per_cell=(100,100), cells_per_block=(3,3), visualise=False, normalise=True) #People_Feature_9.csv Food_Feature_9.csv\n",
      "    #blocks = feature.hog(img, orientations=9, pixels_per_cell=(30,30), cells_per_block=(3,3), visualise=False, normalise=True) #People_Feature_10.csv Food_Feature_10.csv\n",
      "\n",
      "    #blocks = feature.hog(img, orientations=9, pixels_per_cell=(30,30), cells_per_block=(3,3), visualise=False, normalise=True) #People_All_1.csv Food_All_1.csv\n",
      "    #blocks = feature.hog(img, orientations=9, pixels_per_cell=(30,30), cells_per_block=(4,4), visualise=False, normalise=True) #People_All_2.csv Food_All_2.csv\n",
      "    #blocks = feature.hog(img, orientations=9, pixels_per_cell=(30,30), cells_per_block=(5,5), visualise=False, normalise=True) #People_All_3.csv Food_All_3.csv\n",
      "    #blocks = feature.hog(img, orientations=9, pixels_per_cell=(50,50), cells_per_block=(3,3), visualise=False, normalise=True) #People_All_4.csv Food_All_4.csv\n",
      "    #blocks = feature.hog(img, orientations=9, pixels_per_cell=(50,50), cells_per_block=(4,4), visualise=False, normalise=True) #People_All_5.csv Food_All_5.csv\n",
      "    #blocks = feature.hog(img, orientations=9, pixels_per_cell=(50,50), cells_per_block=(5,5), visualise=False, normalise=True) #People_All_6.csv Food_All_6.csv\n",
      "    #blocks = feature.hog(img, orientations=9, pixels_per_cell=(100,100), cells_per_block=(3,3), visualise=False, normalise=True) #People_All_7.csv Food_All_7.csv\n",
      "    #blocks = feature.hog(img, orientations=9, pixels_per_cell=(100,100), cells_per_block=(4,4), visualise=False, normalise=True) #People_All_8.csv Food_All_8.csv\n",
      "    blocks = feature.hog(img, orientations=9, pixels_per_cell=(100,100), cells_per_block=(5,5), visualise=False, normalise=True) #People_All_9.csv Food_All_9.csv\n",
      "    print \"hogs done\"\n",
      "\n",
      "    #labels_df.loc[len(labels_df.index)]=([blocks])\n",
      "    #if(len(blocks) == 29241): #People_Feature_10.csv Food_Feature_10.csv\n",
      "    #if(len(blocks) == 1296): #People_Feature_9.csv Food_Feature_9.csv\n",
      "    #if(len(blocks) == 15390): #People_Feature_8.csv Food_Feature_8.csv\n",
      "    #if(len(blocks) == 8100): #People_Feature_7.csv Food_Feature_7.csv\n",
      "\n",
      "    #if(len(blocks) == 29241): #People_All_1.csv Food_All_1.csv\n",
      "    #if(len(blocks) == 46656): #People_All_2.csv Food_All_2.csv\n",
      "    #if(len(blocks) == 65025): #People_All_3.csv Food_All_3.csv\n",
      "    #if(len(blocks) == 8100): #People_All_4.csv Food_All_4.csv\n",
      "    #if(len(blocks) == 11664): #People_All_5.csv Food_All_5.csv\n",
      "    #if(len(blocks) == 14400): #People_All_6.csv Food_All_6.csv\n",
      "    #if(len(blocks) == 1296): #People_All_7.csv Food_All_7.csv\n",
      "    #if(len(blocks) == 1296): #People_All_8.csv Food_All_8.csv\n",
      "    if(len(blocks) == 900): #People_All_9.csv Food_All_9.csv\n",
      "        feat[count] = blocks\n",
      "    count += 1\n",
      "\n",
      "urls_df=pd.DataFrame()\n",
      "urls_df[\"urls\"]= url_good_list\n",
      "feat_df= pd.DataFrame(feat)\n",
      "final_df=pd.concat([urls_df,feat_df],axis=1) \n",
      "name=\"machine_learn/HOG/csv_features/hog_features_9_NewTraining_Faces_everyones.csv\"\n",
      "final_df.to_csv(name)\n"
     ],
     "language": "python",
     "metadata": {},
     "outputs": [
      {
       "output_type": "stream",
       "stream": "stdout",
       "text": [
        "hogs done\n",
        "hogs done"
       ]
      },
      {
       "output_type": "stream",
       "stream": "stdout",
       "text": [
        "\n",
        "hogs done"
       ]
      },
      {
       "output_type": "stream",
       "stream": "stdout",
       "text": [
        "\n",
        "hogs done"
       ]
      },
      {
       "output_type": "stream",
       "stream": "stdout",
       "text": [
        "\n",
        "hogs done"
       ]
      },
      {
       "output_type": "stream",
       "stream": "stdout",
       "text": [
        "\n",
        "hogs done"
       ]
      },
      {
       "output_type": "stream",
       "stream": "stdout",
       "text": [
        "\n",
        "hogs done"
       ]
      },
      {
       "output_type": "stream",
       "stream": "stdout",
       "text": [
        "\n",
        "hogs done"
       ]
      },
      {
       "output_type": "stream",
       "stream": "stdout",
       "text": [
        "\n",
        "hogs done"
       ]
      },
      {
       "output_type": "stream",
       "stream": "stdout",
       "text": [
        "\n",
        "hogs done"
       ]
      },
      {
       "output_type": "stream",
       "stream": "stdout",
       "text": [
        "\n",
        "hogs done"
       ]
      },
      {
       "output_type": "stream",
       "stream": "stdout",
       "text": [
        "\n",
        "hogs done"
       ]
      },
      {
       "output_type": "stream",
       "stream": "stdout",
       "text": [
        "\n",
        "hogs done"
       ]
      },
      {
       "output_type": "stream",
       "stream": "stdout",
       "text": [
        "\n",
        "hogs done"
       ]
      },
      {
       "output_type": "stream",
       "stream": "stdout",
       "text": [
        "\n",
        "hogs done"
       ]
      },
      {
       "output_type": "stream",
       "stream": "stdout",
       "text": [
        "\n",
        "hogs done"
       ]
      },
      {
       "output_type": "stream",
       "stream": "stdout",
       "text": [
        "\n",
        "hogs done"
       ]
      },
      {
       "output_type": "stream",
       "stream": "stdout",
       "text": [
        "\n",
        "hogs done"
       ]
      },
      {
       "output_type": "stream",
       "stream": "stdout",
       "text": [
        "\n",
        "hogs done"
       ]
      },
      {
       "output_type": "stream",
       "stream": "stdout",
       "text": [
        "\n",
        "hogs done"
       ]
      },
      {
       "output_type": "stream",
       "stream": "stdout",
       "text": [
        "\n",
        "hogs done"
       ]
      },
      {
       "output_type": "stream",
       "stream": "stdout",
       "text": [
        "\n",
        "hogs done"
       ]
      },
      {
       "output_type": "stream",
       "stream": "stdout",
       "text": [
        "\n",
        "hogs done"
       ]
      },
      {
       "output_type": "stream",
       "stream": "stdout",
       "text": [
        "\n",
        "hogs done"
       ]
      },
      {
       "output_type": "stream",
       "stream": "stdout",
       "text": [
        "\n",
        "hogs done"
       ]
      },
      {
       "output_type": "stream",
       "stream": "stdout",
       "text": [
        "\n",
        "hogs done"
       ]
      },
      {
       "output_type": "stream",
       "stream": "stdout",
       "text": [
        "\n",
        "hogs done"
       ]
      },
      {
       "output_type": "stream",
       "stream": "stdout",
       "text": [
        "\n",
        "hogs done"
       ]
      },
      {
       "output_type": "stream",
       "stream": "stdout",
       "text": [
        "\n",
        "hogs done"
       ]
      },
      {
       "output_type": "stream",
       "stream": "stdout",
       "text": [
        "\n",
        "hogs done"
       ]
      },
      {
       "output_type": "stream",
       "stream": "stdout",
       "text": [
        "\n",
        "hogs done"
       ]
      },
      {
       "output_type": "stream",
       "stream": "stdout",
       "text": [
        "\n",
        "hogs done"
       ]
      },
      {
       "output_type": "stream",
       "stream": "stdout",
       "text": [
        "\n",
        "hogs done"
       ]
      },
      {
       "output_type": "stream",
       "stream": "stdout",
       "text": [
        "\n",
        "hogs done"
       ]
      },
      {
       "output_type": "stream",
       "stream": "stdout",
       "text": [
        "\n",
        "hogs done"
       ]
      },
      {
       "output_type": "stream",
       "stream": "stdout",
       "text": [
        "\n",
        "hogs done"
       ]
      },
      {
       "output_type": "stream",
       "stream": "stdout",
       "text": [
        "\n",
        "hogs done"
       ]
      },
      {
       "output_type": "stream",
       "stream": "stdout",
       "text": [
        "\n",
        "hogs done"
       ]
      },
      {
       "output_type": "stream",
       "stream": "stdout",
       "text": [
        "\n",
        "hogs done"
       ]
      },
      {
       "output_type": "stream",
       "stream": "stdout",
       "text": [
        "\n",
        "hogs done"
       ]
      },
      {
       "output_type": "stream",
       "stream": "stdout",
       "text": [
        "\n",
        "hogs done"
       ]
      },
      {
       "output_type": "stream",
       "stream": "stdout",
       "text": [
        "\n",
        "hogs done"
       ]
      },
      {
       "output_type": "stream",
       "stream": "stdout",
       "text": [
        "\n",
        "hogs done"
       ]
      },
      {
       "output_type": "stream",
       "stream": "stdout",
       "text": [
        "\n",
        "hogs done"
       ]
      },
      {
       "output_type": "stream",
       "stream": "stdout",
       "text": [
        "\n",
        "hogs done"
       ]
      },
      {
       "output_type": "stream",
       "stream": "stdout",
       "text": [
        "\n",
        "hogs done"
       ]
      },
      {
       "output_type": "stream",
       "stream": "stdout",
       "text": [
        "\n",
        "hogs done"
       ]
      },
      {
       "output_type": "stream",
       "stream": "stdout",
       "text": [
        "\n",
        "hogs done"
       ]
      },
      {
       "output_type": "stream",
       "stream": "stdout",
       "text": [
        "\n",
        "hogs done"
       ]
      },
      {
       "output_type": "stream",
       "stream": "stdout",
       "text": [
        "\n",
        "hogs done"
       ]
      },
      {
       "output_type": "stream",
       "stream": "stdout",
       "text": [
        "\n",
        "hogs done"
       ]
      },
      {
       "output_type": "stream",
       "stream": "stdout",
       "text": [
        "\n",
        "hogs done"
       ]
      },
      {
       "output_type": "stream",
       "stream": "stdout",
       "text": [
        "\n",
        "hogs done"
       ]
      },
      {
       "output_type": "stream",
       "stream": "stdout",
       "text": [
        "\n",
        "hogs done"
       ]
      },
      {
       "output_type": "stream",
       "stream": "stdout",
       "text": [
        "\n",
        "hogs done"
       ]
      },
      {
       "output_type": "stream",
       "stream": "stdout",
       "text": [
        "\n",
        "hogs done"
       ]
      },
      {
       "output_type": "stream",
       "stream": "stdout",
       "text": [
        "\n",
        "hogs done"
       ]
      },
      {
       "output_type": "stream",
       "stream": "stdout",
       "text": [
        "\n",
        "hogs done"
       ]
      },
      {
       "output_type": "stream",
       "stream": "stdout",
       "text": [
        "\n",
        "hogs done"
       ]
      },
      {
       "output_type": "stream",
       "stream": "stdout",
       "text": [
        "\n",
        "hogs done"
       ]
      },
      {
       "output_type": "stream",
       "stream": "stdout",
       "text": [
        "\n",
        "hogs done"
       ]
      },
      {
       "output_type": "stream",
       "stream": "stdout",
       "text": [
        "\n",
        "hogs done"
       ]
      },
      {
       "output_type": "stream",
       "stream": "stdout",
       "text": [
        "\n",
        "hogs done"
       ]
      },
      {
       "output_type": "stream",
       "stream": "stdout",
       "text": [
        "\n",
        "hogs done"
       ]
      },
      {
       "output_type": "stream",
       "stream": "stdout",
       "text": [
        "\n",
        "hogs done"
       ]
      },
      {
       "output_type": "stream",
       "stream": "stdout",
       "text": [
        "\n",
        "hogs done"
       ]
      },
      {
       "output_type": "stream",
       "stream": "stdout",
       "text": [
        "\n",
        "hogs done"
       ]
      },
      {
       "output_type": "stream",
       "stream": "stdout",
       "text": [
        "\n",
        "hogs done"
       ]
      },
      {
       "output_type": "stream",
       "stream": "stdout",
       "text": [
        "\n",
        "hogs done"
       ]
      },
      {
       "output_type": "stream",
       "stream": "stdout",
       "text": [
        "\n",
        "hogs done"
       ]
      },
      {
       "output_type": "stream",
       "stream": "stdout",
       "text": [
        "\n",
        "hogs done"
       ]
      },
      {
       "output_type": "stream",
       "stream": "stdout",
       "text": [
        "\n",
        "hogs done"
       ]
      },
      {
       "output_type": "stream",
       "stream": "stdout",
       "text": [
        "\n",
        "hogs done"
       ]
      },
      {
       "output_type": "stream",
       "stream": "stdout",
       "text": [
        "\n",
        "hogs done"
       ]
      },
      {
       "output_type": "stream",
       "stream": "stdout",
       "text": [
        "\n",
        "hogs done"
       ]
      },
      {
       "output_type": "stream",
       "stream": "stdout",
       "text": [
        "\n",
        "hogs done"
       ]
      },
      {
       "output_type": "stream",
       "stream": "stdout",
       "text": [
        "\n",
        "hogs done"
       ]
      },
      {
       "output_type": "stream",
       "stream": "stdout",
       "text": [
        "\n",
        "hogs done"
       ]
      },
      {
       "output_type": "stream",
       "stream": "stdout",
       "text": [
        "\n",
        "hogs done"
       ]
      },
      {
       "output_type": "stream",
       "stream": "stdout",
       "text": [
        "\n",
        "hogs done"
       ]
      },
      {
       "output_type": "stream",
       "stream": "stdout",
       "text": [
        "\n",
        "hogs done"
       ]
      },
      {
       "output_type": "stream",
       "stream": "stdout",
       "text": [
        "\n",
        "hogs done"
       ]
      },
      {
       "output_type": "stream",
       "stream": "stdout",
       "text": [
        "\n",
        "hogs done"
       ]
      },
      {
       "output_type": "stream",
       "stream": "stdout",
       "text": [
        "\n",
        "hogs done"
       ]
      },
      {
       "output_type": "stream",
       "stream": "stdout",
       "text": [
        "\n",
        "hogs done"
       ]
      },
      {
       "output_type": "stream",
       "stream": "stdout",
       "text": [
        "\n",
        "hogs done"
       ]
      },
      {
       "output_type": "stream",
       "stream": "stdout",
       "text": [
        "\n",
        "hogs done"
       ]
      },
      {
       "output_type": "stream",
       "stream": "stdout",
       "text": [
        "\n",
        "hogs done"
       ]
      },
      {
       "output_type": "stream",
       "stream": "stdout",
       "text": [
        "\n",
        "hogs done"
       ]
      },
      {
       "output_type": "stream",
       "stream": "stdout",
       "text": [
        "\n",
        "hogs done"
       ]
      },
      {
       "output_type": "stream",
       "stream": "stdout",
       "text": [
        "\n",
        "hogs done"
       ]
      },
      {
       "output_type": "stream",
       "stream": "stdout",
       "text": [
        "\n",
        "hogs done"
       ]
      },
      {
       "output_type": "stream",
       "stream": "stdout",
       "text": [
        "\n",
        "hogs done"
       ]
      },
      {
       "output_type": "stream",
       "stream": "stdout",
       "text": [
        "\n",
        "hogs done"
       ]
      },
      {
       "output_type": "stream",
       "stream": "stdout",
       "text": [
        "\n",
        "hogs done"
       ]
      },
      {
       "output_type": "stream",
       "stream": "stdout",
       "text": [
        "\n",
        "hogs done"
       ]
      },
      {
       "output_type": "stream",
       "stream": "stdout",
       "text": [
        "\n",
        "hogs done"
       ]
      },
      {
       "output_type": "stream",
       "stream": "stdout",
       "text": [
        "\n",
        "hogs done"
       ]
      },
      {
       "output_type": "stream",
       "stream": "stdout",
       "text": [
        "\n",
        "hogs done"
       ]
      },
      {
       "output_type": "stream",
       "stream": "stdout",
       "text": [
        "\n",
        "hogs done"
       ]
      },
      {
       "output_type": "stream",
       "stream": "stdout",
       "text": [
        "\n",
        "hogs done"
       ]
      },
      {
       "output_type": "stream",
       "stream": "stdout",
       "text": [
        "\n",
        "hogs done"
       ]
      },
      {
       "output_type": "stream",
       "stream": "stdout",
       "text": [
        "\n",
        "hogs done"
       ]
      },
      {
       "output_type": "stream",
       "stream": "stdout",
       "text": [
        "\n",
        "hogs done"
       ]
      },
      {
       "output_type": "stream",
       "stream": "stdout",
       "text": [
        "\n",
        "hogs done"
       ]
      },
      {
       "output_type": "stream",
       "stream": "stdout",
       "text": [
        "\n",
        "hogs done"
       ]
      },
      {
       "output_type": "stream",
       "stream": "stdout",
       "text": [
        "\n",
        "hogs done"
       ]
      },
      {
       "output_type": "stream",
       "stream": "stdout",
       "text": [
        "\n",
        "hogs done"
       ]
      },
      {
       "output_type": "stream",
       "stream": "stdout",
       "text": [
        "\n",
        "hogs done"
       ]
      },
      {
       "output_type": "stream",
       "stream": "stdout",
       "text": [
        "\n",
        "hogs done"
       ]
      },
      {
       "output_type": "stream",
       "stream": "stdout",
       "text": [
        "\n",
        "hogs done"
       ]
      },
      {
       "output_type": "stream",
       "stream": "stdout",
       "text": [
        "\n",
        "hogs done"
       ]
      },
      {
       "output_type": "stream",
       "stream": "stdout",
       "text": [
        "\n",
        "hogs done"
       ]
      },
      {
       "output_type": "stream",
       "stream": "stdout",
       "text": [
        "\n",
        "hogs done"
       ]
      },
      {
       "output_type": "stream",
       "stream": "stdout",
       "text": [
        "\n",
        "hogs done"
       ]
      },
      {
       "output_type": "stream",
       "stream": "stdout",
       "text": [
        "\n",
        "hogs done"
       ]
      },
      {
       "output_type": "stream",
       "stream": "stdout",
       "text": [
        "\n",
        "hogs done"
       ]
      },
      {
       "output_type": "stream",
       "stream": "stdout",
       "text": [
        "\n",
        "hogs done"
       ]
      },
      {
       "output_type": "stream",
       "stream": "stdout",
       "text": [
        "\n",
        "hogs done"
       ]
      },
      {
       "output_type": "stream",
       "stream": "stdout",
       "text": [
        "\n",
        "hogs done"
       ]
      },
      {
       "output_type": "stream",
       "stream": "stdout",
       "text": [
        "\n",
        "hogs done"
       ]
      },
      {
       "output_type": "stream",
       "stream": "stdout",
       "text": [
        "\n",
        "hogs done"
       ]
      },
      {
       "output_type": "stream",
       "stream": "stdout",
       "text": [
        "\n",
        "hogs done"
       ]
      },
      {
       "output_type": "stream",
       "stream": "stdout",
       "text": [
        "\n",
        "hogs done"
       ]
      },
      {
       "output_type": "stream",
       "stream": "stdout",
       "text": [
        "\n",
        "hogs done"
       ]
      },
      {
       "output_type": "stream",
       "stream": "stdout",
       "text": [
        "\n",
        "hogs done"
       ]
      },
      {
       "output_type": "stream",
       "stream": "stdout",
       "text": [
        "\n",
        "hogs done"
       ]
      },
      {
       "output_type": "stream",
       "stream": "stdout",
       "text": [
        "\n",
        "hogs done"
       ]
      },
      {
       "output_type": "stream",
       "stream": "stdout",
       "text": [
        "\n",
        "hogs done"
       ]
      },
      {
       "output_type": "stream",
       "stream": "stdout",
       "text": [
        "\n",
        "hogs done"
       ]
      },
      {
       "output_type": "stream",
       "stream": "stdout",
       "text": [
        "\n",
        "hogs done"
       ]
      },
      {
       "output_type": "stream",
       "stream": "stdout",
       "text": [
        "\n",
        "hogs done"
       ]
      },
      {
       "output_type": "stream",
       "stream": "stdout",
       "text": [
        "\n",
        "hogs done"
       ]
      },
      {
       "output_type": "stream",
       "stream": "stdout",
       "text": [
        "\n",
        "hogs done"
       ]
      },
      {
       "output_type": "stream",
       "stream": "stdout",
       "text": [
        "\n",
        "hogs done"
       ]
      },
      {
       "output_type": "stream",
       "stream": "stdout",
       "text": [
        "\n",
        "hogs done"
       ]
      },
      {
       "output_type": "stream",
       "stream": "stdout",
       "text": [
        "\n",
        "hogs done"
       ]
      },
      {
       "output_type": "stream",
       "stream": "stdout",
       "text": [
        "\n",
        "hogs done"
       ]
      },
      {
       "output_type": "stream",
       "stream": "stdout",
       "text": [
        "\n",
        "hogs done"
       ]
      },
      {
       "output_type": "stream",
       "stream": "stdout",
       "text": [
        "\n",
        "hogs done"
       ]
      },
      {
       "output_type": "stream",
       "stream": "stdout",
       "text": [
        "\n",
        "hogs done"
       ]
      },
      {
       "output_type": "stream",
       "stream": "stdout",
       "text": [
        "\n",
        "hogs done"
       ]
      },
      {
       "output_type": "stream",
       "stream": "stdout",
       "text": [
        "\n",
        "hogs done"
       ]
      },
      {
       "output_type": "stream",
       "stream": "stdout",
       "text": [
        "\n",
        "hogs done"
       ]
      },
      {
       "output_type": "stream",
       "stream": "stdout",
       "text": [
        "\n",
        "hogs done"
       ]
      },
      {
       "output_type": "stream",
       "stream": "stdout",
       "text": [
        "\n",
        "hogs done"
       ]
      },
      {
       "output_type": "stream",
       "stream": "stdout",
       "text": [
        "\n",
        "hogs done"
       ]
      },
      {
       "output_type": "stream",
       "stream": "stdout",
       "text": [
        "\n",
        "hogs done"
       ]
      },
      {
       "output_type": "stream",
       "stream": "stdout",
       "text": [
        "\n",
        "hogs done"
       ]
      },
      {
       "output_type": "stream",
       "stream": "stdout",
       "text": [
        "\n",
        "hogs done"
       ]
      },
      {
       "output_type": "stream",
       "stream": "stdout",
       "text": [
        "\n",
        "hogs done"
       ]
      },
      {
       "output_type": "stream",
       "stream": "stdout",
       "text": [
        "\n",
        "hogs done"
       ]
      },
      {
       "output_type": "stream",
       "stream": "stdout",
       "text": [
        "\n",
        "hogs done"
       ]
      },
      {
       "output_type": "stream",
       "stream": "stdout",
       "text": [
        "\n",
        "hogs done"
       ]
      },
      {
       "output_type": "stream",
       "stream": "stdout",
       "text": [
        "\n",
        "hogs done"
       ]
      },
      {
       "output_type": "stream",
       "stream": "stdout",
       "text": [
        "\n",
        "hogs done"
       ]
      },
      {
       "output_type": "stream",
       "stream": "stdout",
       "text": [
        "\n",
        "hogs done"
       ]
      },
      {
       "output_type": "stream",
       "stream": "stdout",
       "text": [
        "\n",
        "hogs done"
       ]
      },
      {
       "output_type": "stream",
       "stream": "stdout",
       "text": [
        "\n",
        "hogs done"
       ]
      },
      {
       "output_type": "stream",
       "stream": "stdout",
       "text": [
        "\n",
        "hogs done"
       ]
      },
      {
       "output_type": "stream",
       "stream": "stdout",
       "text": [
        "\n",
        "hogs done"
       ]
      },
      {
       "output_type": "stream",
       "stream": "stdout",
       "text": [
        "\n",
        "hogs done"
       ]
      },
      {
       "output_type": "stream",
       "stream": "stdout",
       "text": [
        "\n",
        "hogs done"
       ]
      },
      {
       "output_type": "stream",
       "stream": "stdout",
       "text": [
        "\n",
        "hogs done"
       ]
      },
      {
       "output_type": "stream",
       "stream": "stdout",
       "text": [
        "\n",
        "hogs done"
       ]
      },
      {
       "output_type": "stream",
       "stream": "stdout",
       "text": [
        "\n",
        "hogs done"
       ]
      },
      {
       "output_type": "stream",
       "stream": "stdout",
       "text": [
        "\n",
        "hogs done"
       ]
      },
      {
       "output_type": "stream",
       "stream": "stdout",
       "text": [
        "\n",
        "hogs done"
       ]
      },
      {
       "output_type": "stream",
       "stream": "stdout",
       "text": [
        "\n",
        "hogs done"
       ]
      },
      {
       "output_type": "stream",
       "stream": "stdout",
       "text": [
        "\n",
        "hogs done"
       ]
      },
      {
       "output_type": "stream",
       "stream": "stdout",
       "text": [
        "\n",
        "hogs done"
       ]
      },
      {
       "output_type": "stream",
       "stream": "stdout",
       "text": [
        "\n",
        "hogs done"
       ]
      },
      {
       "output_type": "stream",
       "stream": "stdout",
       "text": [
        "\n",
        "hogs done"
       ]
      },
      {
       "output_type": "stream",
       "stream": "stdout",
       "text": [
        "\n",
        "hogs done"
       ]
      },
      {
       "output_type": "stream",
       "stream": "stdout",
       "text": [
        "\n",
        "hogs done"
       ]
      },
      {
       "output_type": "stream",
       "stream": "stdout",
       "text": [
        "\n",
        "hogs done"
       ]
      },
      {
       "output_type": "stream",
       "stream": "stdout",
       "text": [
        "\n",
        "hogs done"
       ]
      },
      {
       "output_type": "stream",
       "stream": "stdout",
       "text": [
        "\n",
        "hogs done"
       ]
      },
      {
       "output_type": "stream",
       "stream": "stdout",
       "text": [
        "\n",
        "hogs done"
       ]
      },
      {
       "output_type": "stream",
       "stream": "stdout",
       "text": [
        "\n",
        "hogs done"
       ]
      },
      {
       "output_type": "stream",
       "stream": "stdout",
       "text": [
        "\n",
        "hogs done"
       ]
      },
      {
       "output_type": "stream",
       "stream": "stdout",
       "text": [
        "\n",
        "hogs done"
       ]
      },
      {
       "output_type": "stream",
       "stream": "stdout",
       "text": [
        "\n",
        "hogs done"
       ]
      },
      {
       "output_type": "stream",
       "stream": "stdout",
       "text": [
        "\n",
        "hogs done"
       ]
      },
      {
       "output_type": "stream",
       "stream": "stdout",
       "text": [
        "\n",
        "hogs done"
       ]
      },
      {
       "output_type": "stream",
       "stream": "stdout",
       "text": [
        "\n",
        "hogs done"
       ]
      },
      {
       "output_type": "stream",
       "stream": "stdout",
       "text": [
        "\n",
        "hogs done"
       ]
      },
      {
       "output_type": "stream",
       "stream": "stdout",
       "text": [
        "\n",
        "hogs done"
       ]
      },
      {
       "output_type": "stream",
       "stream": "stdout",
       "text": [
        "\n",
        "hogs done"
       ]
      },
      {
       "output_type": "stream",
       "stream": "stdout",
       "text": [
        "\n",
        "hogs done"
       ]
      },
      {
       "output_type": "stream",
       "stream": "stdout",
       "text": [
        "\n",
        "hogs done"
       ]
      },
      {
       "output_type": "stream",
       "stream": "stdout",
       "text": [
        "\n",
        "hogs done"
       ]
      },
      {
       "output_type": "stream",
       "stream": "stdout",
       "text": [
        "\n",
        "hogs done"
       ]
      },
      {
       "output_type": "stream",
       "stream": "stdout",
       "text": [
        "\n",
        "hogs done"
       ]
      },
      {
       "output_type": "stream",
       "stream": "stdout",
       "text": [
        "\n",
        "hogs done"
       ]
      },
      {
       "output_type": "stream",
       "stream": "stdout",
       "text": [
        "\n",
        "hogs done"
       ]
      },
      {
       "output_type": "stream",
       "stream": "stdout",
       "text": [
        "\n",
        "hogs done"
       ]
      },
      {
       "output_type": "stream",
       "stream": "stdout",
       "text": [
        "\n",
        "hogs done"
       ]
      },
      {
       "output_type": "stream",
       "stream": "stdout",
       "text": [
        "\n",
        "hogs done"
       ]
      },
      {
       "output_type": "stream",
       "stream": "stdout",
       "text": [
        "\n",
        "hogs done"
       ]
      },
      {
       "output_type": "stream",
       "stream": "stdout",
       "text": [
        "\n",
        "hogs done"
       ]
      },
      {
       "output_type": "stream",
       "stream": "stdout",
       "text": [
        "\n",
        "hogs done"
       ]
      },
      {
       "output_type": "stream",
       "stream": "stdout",
       "text": [
        "\n",
        "hogs done"
       ]
      },
      {
       "output_type": "stream",
       "stream": "stdout",
       "text": [
        "\n",
        "hogs done"
       ]
      },
      {
       "output_type": "stream",
       "stream": "stdout",
       "text": [
        "\n",
        "hogs done"
       ]
      },
      {
       "output_type": "stream",
       "stream": "stdout",
       "text": [
        "\n",
        "hogs done"
       ]
      },
      {
       "output_type": "stream",
       "stream": "stdout",
       "text": [
        "\n",
        "hogs done"
       ]
      },
      {
       "output_type": "stream",
       "stream": "stdout",
       "text": [
        "\n",
        "hogs done"
       ]
      },
      {
       "output_type": "stream",
       "stream": "stdout",
       "text": [
        "\n",
        "hogs done"
       ]
      },
      {
       "output_type": "stream",
       "stream": "stdout",
       "text": [
        "\n",
        "hogs done"
       ]
      },
      {
       "output_type": "stream",
       "stream": "stdout",
       "text": [
        "\n",
        "hogs done"
       ]
      },
      {
       "output_type": "stream",
       "stream": "stdout",
       "text": [
        "\n",
        "hogs done"
       ]
      },
      {
       "output_type": "stream",
       "stream": "stdout",
       "text": [
        "\n",
        "hogs done"
       ]
      },
      {
       "output_type": "stream",
       "stream": "stdout",
       "text": [
        "\n",
        "hogs done"
       ]
      },
      {
       "output_type": "stream",
       "stream": "stdout",
       "text": [
        "\n",
        "hogs done"
       ]
      },
      {
       "output_type": "stream",
       "stream": "stdout",
       "text": [
        "\n",
        "hogs done"
       ]
      },
      {
       "output_type": "stream",
       "stream": "stdout",
       "text": [
        "\n",
        "hogs done"
       ]
      },
      {
       "output_type": "stream",
       "stream": "stdout",
       "text": [
        "\n",
        "hogs done"
       ]
      },
      {
       "output_type": "stream",
       "stream": "stdout",
       "text": [
        "\n",
        "hogs done"
       ]
      },
      {
       "output_type": "stream",
       "stream": "stdout",
       "text": [
        "\n",
        "hogs done"
       ]
      },
      {
       "output_type": "stream",
       "stream": "stdout",
       "text": [
        "\n",
        "hogs done"
       ]
      },
      {
       "output_type": "stream",
       "stream": "stdout",
       "text": [
        "\n",
        "hogs done"
       ]
      },
      {
       "output_type": "stream",
       "stream": "stdout",
       "text": [
        "\n",
        "hogs done"
       ]
      },
      {
       "output_type": "stream",
       "stream": "stdout",
       "text": [
        "\n",
        "hogs done"
       ]
      },
      {
       "output_type": "stream",
       "stream": "stdout",
       "text": [
        "\n",
        "hogs done"
       ]
      },
      {
       "output_type": "stream",
       "stream": "stdout",
       "text": [
        "\n",
        "hogs done"
       ]
      },
      {
       "output_type": "stream",
       "stream": "stdout",
       "text": [
        "\n",
        "hogs done"
       ]
      },
      {
       "output_type": "stream",
       "stream": "stdout",
       "text": [
        "\n",
        "hogs done"
       ]
      },
      {
       "output_type": "stream",
       "stream": "stdout",
       "text": [
        "\n",
        "hogs done"
       ]
      },
      {
       "output_type": "stream",
       "stream": "stdout",
       "text": [
        "\n",
        "hogs done"
       ]
      },
      {
       "output_type": "stream",
       "stream": "stdout",
       "text": [
        "\n",
        "hogs done"
       ]
      },
      {
       "output_type": "stream",
       "stream": "stdout",
       "text": [
        "\n",
        "hogs done"
       ]
      },
      {
       "output_type": "stream",
       "stream": "stdout",
       "text": [
        "\n",
        "hogs done"
       ]
      },
      {
       "output_type": "stream",
       "stream": "stdout",
       "text": [
        "\n",
        "hogs done"
       ]
      },
      {
       "output_type": "stream",
       "stream": "stdout",
       "text": [
        "\n",
        "hogs done"
       ]
      },
      {
       "output_type": "stream",
       "stream": "stdout",
       "text": [
        "\n",
        "hogs done"
       ]
      },
      {
       "output_type": "stream",
       "stream": "stdout",
       "text": [
        "\n",
        "hogs done"
       ]
      },
      {
       "output_type": "stream",
       "stream": "stdout",
       "text": [
        "\n",
        "hogs done"
       ]
      },
      {
       "output_type": "stream",
       "stream": "stdout",
       "text": [
        "\n",
        "hogs done"
       ]
      },
      {
       "output_type": "stream",
       "stream": "stdout",
       "text": [
        "\n",
        "hogs done"
       ]
      },
      {
       "output_type": "stream",
       "stream": "stdout",
       "text": [
        "\n",
        "hogs done"
       ]
      },
      {
       "output_type": "stream",
       "stream": "stdout",
       "text": [
        "\n",
        "hogs done"
       ]
      },
      {
       "output_type": "stream",
       "stream": "stdout",
       "text": [
        "\n",
        "hogs done"
       ]
      },
      {
       "output_type": "stream",
       "stream": "stdout",
       "text": [
        "\n",
        "hogs done"
       ]
      },
      {
       "output_type": "stream",
       "stream": "stdout",
       "text": [
        "\n",
        "hogs done"
       ]
      },
      {
       "output_type": "stream",
       "stream": "stdout",
       "text": [
        "\n",
        "hogs done"
       ]
      },
      {
       "output_type": "stream",
       "stream": "stdout",
       "text": [
        "\n",
        "hogs done"
       ]
      },
      {
       "output_type": "stream",
       "stream": "stdout",
       "text": [
        "\n",
        "hogs done"
       ]
      },
      {
       "output_type": "stream",
       "stream": "stdout",
       "text": [
        "\n",
        "hogs done"
       ]
      },
      {
       "output_type": "stream",
       "stream": "stdout",
       "text": [
        "\n",
        "hogs done"
       ]
      },
      {
       "output_type": "stream",
       "stream": "stdout",
       "text": [
        "\n",
        "hogs done"
       ]
      },
      {
       "output_type": "stream",
       "stream": "stdout",
       "text": [
        "\n",
        "hogs done"
       ]
      },
      {
       "output_type": "stream",
       "stream": "stdout",
       "text": [
        "\n"
       ]
      }
     ],
     "prompt_number": 154
    },
    {
     "cell_type": "code",
     "collapsed": false,
     "input": [
      "df=pd.read_csv(name)\n",
      "# name=\"machine_learn/HOG/csv_features/hog_features_9_NewTraining_Faces_everyones.csv\"\n",
      "# final_df.to_csv(name)\n",
      "df.head()"
     ],
     "language": "python",
     "metadata": {},
     "outputs": [
      {
       "html": [
        "<div style=\"max-height:1000px;max-width:1500px;overflow:auto;\">\n",
        "<table border=\"1\" class=\"dataframe\">\n",
        "  <thead>\n",
        "    <tr style=\"text-align: right;\">\n",
        "      <th></th>\n",
        "      <th>Unnamed: 0</th>\n",
        "      <th>urls</th>\n",
        "      <th>0</th>\n",
        "      <th>1</th>\n",
        "      <th>2</th>\n",
        "      <th>3</th>\n",
        "      <th>4</th>\n",
        "      <th>5</th>\n",
        "      <th>6</th>\n",
        "      <th>7</th>\n",
        "      <th>8</th>\n",
        "      <th>9</th>\n",
        "      <th>10</th>\n",
        "      <th>11</th>\n",
        "      <th>12</th>\n",
        "      <th>13</th>\n",
        "      <th>14</th>\n",
        "      <th>15</th>\n",
        "      <th>16</th>\n",
        "      <th>17</th>\n",
        "      <th></th>\n",
        "    </tr>\n",
        "  </thead>\n",
        "  <tbody>\n",
        "    <tr>\n",
        "      <th>0</th>\n",
        "      <td> 0</td>\n",
        "      <td> http://scontent-a.cdninstagram.com/hphotos-xpf...</td>\n",
        "      <td> 0.011739</td>\n",
        "      <td> 0.002146</td>\n",
        "      <td> 0.001623</td>\n",
        "      <td> 0.001556</td>\n",
        "      <td> 0.002361</td>\n",
        "      <td> 0.001852</td>\n",
        "      <td> 0.001449</td>\n",
        "      <td> 0.001782</td>\n",
        "      <td> 0.012675</td>\n",
        "      <td> 0.009195</td>\n",
        "      <td> 0.001594</td>\n",
        "      <td> 0.001437</td>\n",
        "      <td> 0.001435</td>\n",
        "      <td> 0.002459</td>\n",
        "      <td> 0.002154</td>\n",
        "      <td> 0.001521</td>\n",
        "      <td> 0.001516</td>\n",
        "      <td> 0.008992</td>\n",
        "      <td>...</td>\n",
        "    </tr>\n",
        "    <tr>\n",
        "      <th>1</th>\n",
        "      <td> 1</td>\n",
        "      <td> http://scontent-b.cdninstagram.com/hphotos-xpa...</td>\n",
        "      <td> 0.007473</td>\n",
        "      <td> 0.002277</td>\n",
        "      <td> 0.002111</td>\n",
        "      <td> 0.001474</td>\n",
        "      <td> 0.002246</td>\n",
        "      <td> 0.000876</td>\n",
        "      <td> 0.001677</td>\n",
        "      <td> 0.002021</td>\n",
        "      <td> 0.002801</td>\n",
        "      <td> 0.011241</td>\n",
        "      <td> 0.004808</td>\n",
        "      <td> 0.005622</td>\n",
        "      <td> 0.006555</td>\n",
        "      <td> 0.010655</td>\n",
        "      <td> 0.004677</td>\n",
        "      <td> 0.003489</td>\n",
        "      <td> 0.004295</td>\n",
        "      <td> 0.008987</td>\n",
        "      <td>...</td>\n",
        "    </tr>\n",
        "    <tr>\n",
        "      <th>2</th>\n",
        "      <td> 2</td>\n",
        "      <td> http://scontent-b.cdninstagram.com/hphotos-xap...</td>\n",
        "      <td> 0.005152</td>\n",
        "      <td> 0.002454</td>\n",
        "      <td> 0.001406</td>\n",
        "      <td> 0.001062</td>\n",
        "      <td> 0.000939</td>\n",
        "      <td> 0.000895</td>\n",
        "      <td> 0.001351</td>\n",
        "      <td> 0.002282</td>\n",
        "      <td> 0.003437</td>\n",
        "      <td> 0.004295</td>\n",
        "      <td> 0.002024</td>\n",
        "      <td> 0.001329</td>\n",
        "      <td> 0.000934</td>\n",
        "      <td> 0.000917</td>\n",
        "      <td> 0.000818</td>\n",
        "      <td> 0.001075</td>\n",
        "      <td> 0.001559</td>\n",
        "      <td> 0.001916</td>\n",
        "      <td>...</td>\n",
        "    </tr>\n",
        "    <tr>\n",
        "      <th>3</th>\n",
        "      <td> 3</td>\n",
        "      <td> http://scontent-a.cdninstagram.com/hphotos-xpa...</td>\n",
        "      <td> 0.010612</td>\n",
        "      <td> 0.005387</td>\n",
        "      <td> 0.004361</td>\n",
        "      <td> 0.005407</td>\n",
        "      <td> 0.008959</td>\n",
        "      <td> 0.004730</td>\n",
        "      <td> 0.003796</td>\n",
        "      <td> 0.005281</td>\n",
        "      <td> 0.010554</td>\n",
        "      <td> 0.006382</td>\n",
        "      <td> 0.004041</td>\n",
        "      <td> 0.004782</td>\n",
        "      <td> 0.005009</td>\n",
        "      <td> 0.004988</td>\n",
        "      <td> 0.003706</td>\n",
        "      <td> 0.002919</td>\n",
        "      <td> 0.002687</td>\n",
        "      <td> 0.004816</td>\n",
        "      <td>...</td>\n",
        "    </tr>\n",
        "    <tr>\n",
        "      <th>4</th>\n",
        "      <td> 4</td>\n",
        "      <td> http://scontent-a.cdninstagram.com/hphotos-xpa...</td>\n",
        "      <td> 0.005802</td>\n",
        "      <td> 0.000435</td>\n",
        "      <td> 0.002636</td>\n",
        "      <td> 0.000536</td>\n",
        "      <td> 0.004043</td>\n",
        "      <td> 0.000378</td>\n",
        "      <td> 0.000501</td>\n",
        "      <td> 0.000887</td>\n",
        "      <td> 0.000584</td>\n",
        "      <td> 0.005987</td>\n",
        "      <td> 0.001511</td>\n",
        "      <td> 0.003725</td>\n",
        "      <td> 0.001731</td>\n",
        "      <td> 0.005894</td>\n",
        "      <td> 0.002035</td>\n",
        "      <td> 0.001698</td>\n",
        "      <td> 0.001915</td>\n",
        "      <td> 0.002221</td>\n",
        "      <td>...</td>\n",
        "    </tr>\n",
        "  </tbody>\n",
        "</table>\n",
        "<p>5 rows \u00d7 902 columns</p>\n",
        "</div>"
       ],
       "metadata": {},
       "output_type": "pyout",
       "prompt_number": 172,
       "text": [
        "   Unnamed: 0                                               urls         0  \\\n",
        "0           0  http://scontent-a.cdninstagram.com/hphotos-xpf...  0.011739   \n",
        "1           1  http://scontent-b.cdninstagram.com/hphotos-xpa...  0.007473   \n",
        "2           2  http://scontent-b.cdninstagram.com/hphotos-xap...  0.005152   \n",
        "3           3  http://scontent-a.cdninstagram.com/hphotos-xpa...  0.010612   \n",
        "4           4  http://scontent-a.cdninstagram.com/hphotos-xpa...  0.005802   \n",
        "\n",
        "          1         2         3         4         5         6         7  \\\n",
        "0  0.002146  0.001623  0.001556  0.002361  0.001852  0.001449  0.001782   \n",
        "1  0.002277  0.002111  0.001474  0.002246  0.000876  0.001677  0.002021   \n",
        "2  0.002454  0.001406  0.001062  0.000939  0.000895  0.001351  0.002282   \n",
        "3  0.005387  0.004361  0.005407  0.008959  0.004730  0.003796  0.005281   \n",
        "4  0.000435  0.002636  0.000536  0.004043  0.000378  0.000501  0.000887   \n",
        "\n",
        "          8         9        10        11        12        13        14  \\\n",
        "0  0.012675  0.009195  0.001594  0.001437  0.001435  0.002459  0.002154   \n",
        "1  0.002801  0.011241  0.004808  0.005622  0.006555  0.010655  0.004677   \n",
        "2  0.003437  0.004295  0.002024  0.001329  0.000934  0.000917  0.000818   \n",
        "3  0.010554  0.006382  0.004041  0.004782  0.005009  0.004988  0.003706   \n",
        "4  0.000584  0.005987  0.001511  0.003725  0.001731  0.005894  0.002035   \n",
        "\n",
        "         15        16        17      \n",
        "0  0.001521  0.001516  0.008992 ...  \n",
        "1  0.003489  0.004295  0.008987 ...  \n",
        "2  0.001075  0.001559  0.001916 ...  \n",
        "3  0.002919  0.002687  0.004816 ...  \n",
        "4  0.001698  0.001915  0.002221 ...  \n",
        "\n",
        "[5 rows x 902 columns]"
       ]
      }
     ],
     "prompt_number": 172
    },
    {
     "cell_type": "code",
     "collapsed": false,
     "input": [
      "# new=df.ix[:,1:]\n",
      "# new.to_csv(name)\n",
      "# new.to_csv(name)\n",
      "name"
     ],
     "language": "python",
     "metadata": {},
     "outputs": [
      {
       "metadata": {},
       "output_type": "pyout",
       "prompt_number": 171,
       "text": [
        "'machine_learn/HOG/csv_features/hog_features_9_NewTraining_Faces_everyones.csv'"
       ]
      }
     ],
     "prompt_number": 171
    },
    {
     "cell_type": "code",
     "collapsed": false,
     "input": [
      "name=\"machine_learn/HOG/csv_features/hog_features_9_NewTraining_Faces_everyones.csv\"\n",
      "final_df.to_csv(name)"
     ],
     "language": "python",
     "metadata": {},
     "outputs": []
    }
   ],
   "metadata": {}
  }
 ]
}